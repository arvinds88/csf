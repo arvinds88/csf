{
 "cells": [
  {
   "cell_type": "code",
   "execution_count": 54,
   "id": "21d30864",
   "metadata": {},
   "outputs": [],
   "source": [
    "import pandas as pd\n",
    "import numpy as np\n",
    "from datetime import datetime, timedelta\n",
    "import regex as re\n",
    "import os\n",
    "import seaborn as sns\n",
    "from openpyxl import load_workbook\n",
    "pd.set_option('display.max_columns', None)\n",
    "pd.set_option('display.max_rows', None)\n",
    "%reload_ext rpy2.ipython"
   ]
  },
  {
   "cell_type": "code",
   "execution_count": 55,
   "id": "05b10dc4",
   "metadata": {},
   "outputs": [],
   "source": [
    "os.chdir('/Users/arvind/Documents/Work/Zoho WorkDrive (Educational Initiatives Private Limited)/My Folders/Projects/CSF/Analysis/Code/DQA/')"
   ]
  },
  {
   "cell_type": "markdown",
   "id": "50ce87b4",
   "metadata": {},
   "source": [
    "<h1>\n",
    "    Import raw data files\n",
    "</h1>"
   ]
  },
  {
   "cell_type": "code",
   "execution_count": 43,
   "id": "98213e9a",
   "metadata": {},
   "outputs": [],
   "source": [
    "#Importing all scored files\n",
    "mp_literacy_scored = pd.read_excel(\"./2022_11_01_mp_literacy_total_scores.xlsx\", index_col=[0])\n",
    "mp_numeracy_scored = pd.read_excel(\"./2022_11_01_mp_numeracy_total_scores.xlsx\", index_col=[0])\n",
    "up_literacy_scored = pd.read_excel(\"./2022_11_01_up_literacy_total_scores.xlsx\", index_col=[0])\n",
    "up_numeracy_scored = pd.read_excel(\"./2022_11_01_up_numeracy_total_scores.xlsx\", index_col=[0])"
   ]
  },
  {
   "cell_type": "code",
   "execution_count": 44,
   "id": "23a546e2",
   "metadata": {},
   "outputs": [
    {
     "data": {
      "text/plain": [
       "True"
      ]
     },
     "execution_count": 44,
     "metadata": {},
     "output_type": "execute_result"
    }
   ],
   "source": [
    "all(col in up_literacy_scored.columns for col in mp_literacy_scored.columns)\n",
    "all(col in up_numeracy_scored.columns for col in mp_numeracy_scored.columns)"
   ]
  },
  {
   "cell_type": "code",
   "execution_count": 45,
   "id": "d68223a6",
   "metadata": {},
   "outputs": [],
   "source": [
    "#Merging state files\n",
    "literacy_scored = pd.concat([mp_literacy_scored,up_literacy_scored],join='inner')\n",
    "numeracy_scored = pd.concat([mp_numeracy_scored,up_numeracy_scored],join='inner')"
   ]
  },
  {
   "cell_type": "code",
   "execution_count": 46,
   "id": "7e91c8be",
   "metadata": {},
   "outputs": [
    {
     "data": {
      "text/plain": [
       "array(['Madhya Pradesh', 'Madhya_Pradesh', 'Uttar Pradesh',\n",
       "       'Uttar_Pradesh'], dtype=object)"
      ]
     },
     "execution_count": 46,
     "metadata": {},
     "output_type": "execute_result"
    }
   ],
   "source": [
    "literacy_scored['school_details.State_label'].unique()"
   ]
  },
  {
   "cell_type": "code",
   "execution_count": 47,
   "id": "736aa1d6",
   "metadata": {},
   "outputs": [],
   "source": [
    "literacy_scored['school_details.State_label'] = literacy_scored['school_details.State_label'].replace('Madhya_Pradesh','Madhya Pradesh')\n",
    "literacy_scored['school_details.State_label'] = literacy_scored['school_details.State_label'].replace('Uttar_Pradesh','Uttar Pradesh')\n",
    "numeracy_scored['school_details.State_label'] = numeracy_scored['school_details.State_label'].replace('Madhya_Pradesh','Madhya Pradesh')\n",
    "numeracy_scored['school_details.State_label'] = numeracy_scored['school_details.State_label'].replace('Uttar_Pradesh','Uttar Pradesh')\n",
    "                                                                                                    "
   ]
  },
  {
   "cell_type": "code",
   "execution_count": 48,
   "id": "bc48cc51",
   "metadata": {},
   "outputs": [],
   "source": [
    "#Output for Tableau Workbook\n",
    "literacy_scored.to_excel(\"../Results/literacy_scored.xlsx\")\n",
    "numeracy_scored.to_excel(\"../Results/numeracy_scored.xlsx\")"
   ]
  },
  {
   "cell_type": "code",
   "execution_count": 65,
   "id": "bb64290d",
   "metadata": {},
   "outputs": [
    {
     "data": {
      "text/plain": [
       "['tabletUserName',\n",
       " 'assessment_date',\n",
       " 'school_details.State_label',\n",
       " 'school_details.District_label',\n",
       " 'school_details.Block_label',\n",
       " 'school_details.School_label',\n",
       " 'school_details.UDISE_cd_label',\n",
       " 'SI_std_name',\n",
       " 'student_age',\n",
       " 'student_gender',\n",
       " 'numeracy1_total',\n",
       " 'numeracy1_tt_time_taken',\n",
       " 'numeracy1_tt_cpm',\n",
       " 'numeracy2_ut_total',\n",
       " 'numeracy2_tt_total',\n",
       " 'numeracy2_tt_time_taken',\n",
       " 'numeracy2_tt_cpm',\n",
       " 'numeracy3_total',\n",
       " 'numeracy4_total',\n",
       " 'numeracy5_total',\n",
       " 'numeracy6_total',\n",
       " 'numeracy7_total',\n",
       " 'numeracy8_total',\n",
       " 'numeracy9a_total',\n",
       " 'numeracy9b_total']"
      ]
     },
     "execution_count": 65,
     "metadata": {},
     "output_type": "execute_result"
    }
   ],
   "source": [
    "numeracy_scored.columns.to_list()"
   ]
  },
  {
   "cell_type": "code",
   "execution_count": 73,
   "id": "a9865898",
   "metadata": {},
   "outputs": [],
   "source": [
    "#renaming variables for ease and use in R\n",
    "literacy_scored = literacy_scored.rename(columns = {'school_details.State_label':'State',\n",
    "                                  'school_details.District_label':'District',\n",
    "                                  'school_details.Block_label':'Block',\n",
    "                                  'school_details.School_label':'School',\n",
    "                                  'school_details.UDISE_cd_label':'UDISE',\n",
    "                                  'SI_std_name':'Name',\n",
    "                                  'student_age':'Age',\n",
    "                                  'student_gender':'Gender'})\n",
    "numeracy_scored = numeracy_scored.rename(columns = {'school_details.State_label':'State',\n",
    "                                  'school_details.District_label':'District',\n",
    "                                  'school_details.Block_label':'Block',\n",
    "                                  'school_details.School_label':'School',\n",
    "                                  'school_details.UDISE_cd_label':'UDISE',\n",
    "                                  'SI_std_name':'Name',\n",
    "                                  'student_age':'Age',\n",
    "                                  'student_gender':'Gender'})"
   ]
  },
  {
   "cell_type": "code",
   "execution_count": 76,
   "id": "3156cd16",
   "metadata": {
    "scrolled": true
   },
   "outputs": [
    {
     "data": {
      "text/html": [
       "<div>\n",
       "<style scoped>\n",
       "    .dataframe tbody tr th:only-of-type {\n",
       "        vertical-align: middle;\n",
       "    }\n",
       "\n",
       "    .dataframe tbody tr th {\n",
       "        vertical-align: top;\n",
       "    }\n",
       "\n",
       "    .dataframe thead th {\n",
       "        text-align: right;\n",
       "    }\n",
       "</style>\n",
       "<table border=\"1\" class=\"dataframe\">\n",
       "  <thead>\n",
       "    <tr style=\"text-align: right;\">\n",
       "      <th></th>\n",
       "      <th>tabletUserName</th>\n",
       "      <th>assessment_date</th>\n",
       "      <th>State</th>\n",
       "      <th>District</th>\n",
       "      <th>Block</th>\n",
       "      <th>School</th>\n",
       "      <th>UDISE</th>\n",
       "      <th>Name</th>\n",
       "      <th>Age</th>\n",
       "      <th>Gender</th>\n",
       "      <th>literacy1_total</th>\n",
       "      <th>literacy2_total</th>\n",
       "      <th>literacy3_total</th>\n",
       "      <th>literacy4_ut_total</th>\n",
       "      <th>literacy4_tt_total</th>\n",
       "      <th>literacy4_tt_time_taken</th>\n",
       "      <th>literacy4_tt_cpm</th>\n",
       "      <th>literacy5_ut_total</th>\n",
       "      <th>literacy5_tt_total</th>\n",
       "      <th>literacy5_tt_time_taken</th>\n",
       "      <th>literacy5_tt_cpm</th>\n",
       "      <th>literacy6_total</th>\n",
       "      <th>literacy6_tt_time_taken</th>\n",
       "      <th>literacy6_tt_cpm</th>\n",
       "      <th>literacy7_total</th>\n",
       "      <th>literacy7_tt_time_taken</th>\n",
       "      <th>literacy7_tt_cpm</th>\n",
       "      <th>literacy8_reading_total</th>\n",
       "      <th>literacy8_comprehension_total</th>\n",
       "      <th>literacy9a_total</th>\n",
       "      <th>literacy9b_total</th>\n",
       "      <th>id</th>\n",
       "    </tr>\n",
       "  </thead>\n",
       "  <tbody>\n",
       "    <tr>\n",
       "      <th>0</th>\n",
       "      <td>Jeevan</td>\n",
       "      <td>2022-09-17</td>\n",
       "      <td>Madhya Pradesh</td>\n",
       "      <td>Shajapur</td>\n",
       "      <td>M. Barodiya</td>\n",
       "      <td>GIRLS P.S. PALSAWAD</td>\n",
       "      <td>23220413303</td>\n",
       "      <td>Bhumika</td>\n",
       "      <td>5.0</td>\n",
       "      <td>Female</td>\n",
       "      <td>3</td>\n",
       "      <td>9</td>\n",
       "      <td>0</td>\n",
       "      <td>0</td>\n",
       "      <td>3</td>\n",
       "      <td>53</td>\n",
       "      <td>3</td>\n",
       "      <td>0</td>\n",
       "      <td>0</td>\n",
       "      <td>0</td>\n",
       "      <td>0</td>\n",
       "      <td>0</td>\n",
       "      <td>0</td>\n",
       "      <td>0</td>\n",
       "      <td>0</td>\n",
       "      <td>22</td>\n",
       "      <td>0</td>\n",
       "      <td>0</td>\n",
       "      <td>0</td>\n",
       "      <td>0</td>\n",
       "      <td>0</td>\n",
       "      <td>0</td>\n",
       "    </tr>\n",
       "    <tr>\n",
       "      <th>1</th>\n",
       "      <td>Kajal</td>\n",
       "      <td>2022-09-23</td>\n",
       "      <td>Madhya Pradesh</td>\n",
       "      <td>Vidisha</td>\n",
       "      <td>Gyaraspur</td>\n",
       "      <td>PS NIPANIYA</td>\n",
       "      <td>23310211501</td>\n",
       "      <td>pavan kushwah</td>\n",
       "      <td>6.0</td>\n",
       "      <td>Male</td>\n",
       "      <td>4</td>\n",
       "      <td>8</td>\n",
       "      <td>7</td>\n",
       "      <td>11</td>\n",
       "      <td>28</td>\n",
       "      <td>60</td>\n",
       "      <td>28</td>\n",
       "      <td>4</td>\n",
       "      <td>7</td>\n",
       "      <td>41</td>\n",
       "      <td>10</td>\n",
       "      <td>2</td>\n",
       "      <td>20</td>\n",
       "      <td>6</td>\n",
       "      <td>2</td>\n",
       "      <td>20</td>\n",
       "      <td>6</td>\n",
       "      <td>1</td>\n",
       "      <td>0</td>\n",
       "      <td>4</td>\n",
       "      <td>0</td>\n",
       "      <td>1</td>\n",
       "    </tr>\n",
       "    <tr>\n",
       "      <th>2</th>\n",
       "      <td>Rahnuma</td>\n",
       "      <td>2022-09-16</td>\n",
       "      <td>Madhya Pradesh</td>\n",
       "      <td>Shajapur</td>\n",
       "      <td>Shajapur</td>\n",
       "      <td>P.S. RATANPURA</td>\n",
       "      <td>23220603401</td>\n",
       "      <td>lakshmi gurjar</td>\n",
       "      <td>5.0</td>\n",
       "      <td>Female</td>\n",
       "      <td>1</td>\n",
       "      <td>7</td>\n",
       "      <td>0</td>\n",
       "      <td>0</td>\n",
       "      <td>0</td>\n",
       "      <td>17</td>\n",
       "      <td>0</td>\n",
       "      <td>0</td>\n",
       "      <td>0</td>\n",
       "      <td>0</td>\n",
       "      <td>0</td>\n",
       "      <td>0</td>\n",
       "      <td>0</td>\n",
       "      <td>0</td>\n",
       "      <td>0</td>\n",
       "      <td>18</td>\n",
       "      <td>0</td>\n",
       "      <td>0</td>\n",
       "      <td>0</td>\n",
       "      <td>10</td>\n",
       "      <td>10</td>\n",
       "      <td>2</td>\n",
       "    </tr>\n",
       "    <tr>\n",
       "      <th>3</th>\n",
       "      <td>Vaibhav</td>\n",
       "      <td>2022-09-23</td>\n",
       "      <td>Madhya Pradesh</td>\n",
       "      <td>Shajapur</td>\n",
       "      <td>Shajapur</td>\n",
       "      <td>BOYS M.S. MAHUPURA SHAJAPUR</td>\n",
       "      <td>23220605849</td>\n",
       "      <td>radhika rodu</td>\n",
       "      <td>6.0</td>\n",
       "      <td>Female</td>\n",
       "      <td>0</td>\n",
       "      <td>0</td>\n",
       "      <td>0</td>\n",
       "      <td>0</td>\n",
       "      <td>0</td>\n",
       "      <td>17</td>\n",
       "      <td>0</td>\n",
       "      <td>0</td>\n",
       "      <td>0</td>\n",
       "      <td>13</td>\n",
       "      <td>0</td>\n",
       "      <td>0</td>\n",
       "      <td>18</td>\n",
       "      <td>0</td>\n",
       "      <td>0</td>\n",
       "      <td>13</td>\n",
       "      <td>0</td>\n",
       "      <td>0</td>\n",
       "      <td>0</td>\n",
       "      <td>10</td>\n",
       "      <td>10</td>\n",
       "      <td>3</td>\n",
       "    </tr>\n",
       "    <tr>\n",
       "      <th>4</th>\n",
       "      <td>Nanda</td>\n",
       "      <td>2022-09-16</td>\n",
       "      <td>Madhya Pradesh</td>\n",
       "      <td>Shajapur</td>\n",
       "      <td>Shajapur</td>\n",
       "      <td>NEW M.S. DILLOD</td>\n",
       "      <td>23220619202</td>\n",
       "      <td>Subham Ramesh</td>\n",
       "      <td>6.0</td>\n",
       "      <td>Male</td>\n",
       "      <td>0</td>\n",
       "      <td>7</td>\n",
       "      <td>0</td>\n",
       "      <td>0</td>\n",
       "      <td>0</td>\n",
       "      <td>15</td>\n",
       "      <td>0</td>\n",
       "      <td>0</td>\n",
       "      <td>0</td>\n",
       "      <td>0</td>\n",
       "      <td>0</td>\n",
       "      <td>0</td>\n",
       "      <td>0</td>\n",
       "      <td>0</td>\n",
       "      <td>0</td>\n",
       "      <td>15</td>\n",
       "      <td>0</td>\n",
       "      <td>0</td>\n",
       "      <td>0</td>\n",
       "      <td>0</td>\n",
       "      <td>0</td>\n",
       "      <td>4</td>\n",
       "    </tr>\n",
       "  </tbody>\n",
       "</table>\n",
       "</div>"
      ],
      "text/plain": [
       "  tabletUserName assessment_date           State  District        Block  \\\n",
       "0         Jeevan      2022-09-17  Madhya Pradesh  Shajapur  M. Barodiya   \n",
       "1          Kajal      2022-09-23  Madhya Pradesh   Vidisha    Gyaraspur   \n",
       "2        Rahnuma      2022-09-16  Madhya Pradesh  Shajapur     Shajapur   \n",
       "3        Vaibhav      2022-09-23  Madhya Pradesh  Shajapur     Shajapur   \n",
       "4          Nanda      2022-09-16  Madhya Pradesh  Shajapur     Shajapur   \n",
       "\n",
       "                        School        UDISE            Name  Age  Gender  \\\n",
       "0          GIRLS P.S. PALSAWAD  23220413303         Bhumika  5.0  Female   \n",
       "1                  PS NIPANIYA  23310211501   pavan kushwah  6.0    Male   \n",
       "2               P.S. RATANPURA  23220603401  lakshmi gurjar  5.0  Female   \n",
       "3  BOYS M.S. MAHUPURA SHAJAPUR  23220605849    radhika rodu  6.0  Female   \n",
       "4              NEW M.S. DILLOD  23220619202   Subham Ramesh  6.0    Male   \n",
       "\n",
       "   literacy1_total  literacy2_total  literacy3_total  literacy4_ut_total  \\\n",
       "0                3                9                0                   0   \n",
       "1                4                8                7                  11   \n",
       "2                1                7                0                   0   \n",
       "3                0                0                0                   0   \n",
       "4                0                7                0                   0   \n",
       "\n",
       "   literacy4_tt_total  literacy4_tt_time_taken  literacy4_tt_cpm  \\\n",
       "0                   3                       53                 3   \n",
       "1                  28                       60                28   \n",
       "2                   0                       17                 0   \n",
       "3                   0                       17                 0   \n",
       "4                   0                       15                 0   \n",
       "\n",
       "   literacy5_ut_total  literacy5_tt_total  literacy5_tt_time_taken  \\\n",
       "0                   0                   0                        0   \n",
       "1                   4                   7                       41   \n",
       "2                   0                   0                        0   \n",
       "3                   0                   0                       13   \n",
       "4                   0                   0                        0   \n",
       "\n",
       "   literacy5_tt_cpm  literacy6_total  literacy6_tt_time_taken  \\\n",
       "0                 0                0                        0   \n",
       "1                10                2                       20   \n",
       "2                 0                0                        0   \n",
       "3                 0                0                       18   \n",
       "4                 0                0                        0   \n",
       "\n",
       "   literacy6_tt_cpm  literacy7_total  literacy7_tt_time_taken  \\\n",
       "0                 0                0                       22   \n",
       "1                 6                2                       20   \n",
       "2                 0                0                       18   \n",
       "3                 0                0                       13   \n",
       "4                 0                0                       15   \n",
       "\n",
       "   literacy7_tt_cpm  literacy8_reading_total  literacy8_comprehension_total  \\\n",
       "0                 0                        0                              0   \n",
       "1                 6                        1                              0   \n",
       "2                 0                        0                              0   \n",
       "3                 0                        0                              0   \n",
       "4                 0                        0                              0   \n",
       "\n",
       "   literacy9a_total  literacy9b_total id  \n",
       "0                 0                 0  0  \n",
       "1                 4                 0  1  \n",
       "2                10                10  2  \n",
       "3                10                10  3  \n",
       "4                 0                 0  4  "
      ]
     },
     "execution_count": 76,
     "metadata": {},
     "output_type": "execute_result"
    }
   ],
   "source": [
    "literacy_scored.head()"
   ]
  },
  {
   "cell_type": "code",
   "execution_count": 75,
   "id": "f0d1bcfc",
   "metadata": {},
   "outputs": [],
   "source": [
    "literacy_scored['id'] = literacy_scored.index\n",
    "numeracy_scored['id'] = numeracy_scored.index"
   ]
  },
  {
   "cell_type": "code",
   "execution_count": 78,
   "id": "0f519fc7",
   "metadata": {
    "scrolled": true
   },
   "outputs": [
    {
     "name": "stdout",
     "output_type": "stream",
     "text": [
      "           State Gender   ct\n",
      "1 Madhya Pradesh Female 1096\n",
      "2 Madhya Pradesh   Male  362\n",
      "3  Uttar Pradesh Female 2788\n",
      "4  Uttar Pradesh   Male  505\n"
     ]
    }
   ],
   "source": [
    "%%R -i literacy_scored\n",
    "\n",
    "require(dplyr)\n",
    "require(Hmisc)\n",
    "require(sqldf)\n",
    "sqldf(\"select State, Gender, count(distinct id) as ct from literacy_scored group by State, Gender\")"
   ]
  },
  {
   "cell_type": "code",
   "execution_count": 81,
   "id": "ca4f3985",
   "metadata": {},
   "outputs": [
    {
     "data": {
      "text/plain": [
       "State           Gender\n",
       "Madhya Pradesh  Female    1096\n",
       "                Male       362\n",
       "Uttar Pradesh   Female    2788\n",
       "                Male       505\n",
       "Name: id, dtype: int64"
      ]
     },
     "execution_count": 81,
     "metadata": {},
     "output_type": "execute_result"
    }
   ],
   "source": [
    "literacy_scored.groupby(['State','Gender'])['id'].count()"
   ]
  },
  {
   "cell_type": "code",
   "execution_count": null,
   "id": "d2cb8143",
   "metadata": {},
   "outputs": [],
   "source": [
    "literacy_scored[literacy_scored['']]"
   ]
  }
 ],
 "metadata": {
  "kernelspec": {
   "display_name": "Python 3 (ipykernel)",
   "language": "python",
   "name": "python3"
  },
  "language_info": {
   "codemirror_mode": {
    "name": "ipython",
    "version": 3
   },
   "file_extension": ".py",
   "mimetype": "text/x-python",
   "name": "python",
   "nbconvert_exporter": "python",
   "pygments_lexer": "ipython3",
   "version": "3.9.12"
  }
 },
 "nbformat": 4,
 "nbformat_minor": 5
}
