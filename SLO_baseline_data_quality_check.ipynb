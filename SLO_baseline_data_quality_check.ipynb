{
 "cells": [
  {
   "cell_type": "code",
   "execution_count": 20,
   "id": "21d30864",
   "metadata": {},
   "outputs": [],
   "source": [
    "import pandas as pd\n",
    "import numpy as np\n",
    "from datetime import datetime, timedelta\n",
    "import regex as re\n",
    "import os\n",
    "import seaborn as sns\n",
    "from openpyxl import load_workbook\n",
    "pd.set_option('display.max_columns', None)\n",
    "pd.set_option('display.max_rows', None)\n",
    "%reload_ext rpy2.ipython"
   ]
  },
  {
   "cell_type": "code",
   "execution_count": 21,
   "id": "05b10dc4",
   "metadata": {},
   "outputs": [],
   "source": [
    "os.chdir('/Users/arvind/Documents/Work/Zoho WorkDrive (Educational Initiatives Private Limited)/My Folders/Projects/CSF/Analysis/Code/DQA/')"
   ]
  },
  {
   "cell_type": "code",
   "execution_count": 4,
   "id": "9e855630",
   "metadata": {},
   "outputs": [],
   "source": [
    "def clean_scores(col_list, df):\n",
    "    for col in col_list:\n",
    "        df.loc[:, col].fillna(0, inplace=True)\n",
    "        df.loc[:, col].replace(88,0,inplace=True)\n",
    "        df.loc[:, col].replace('88',0,inplace=True)\n",
    "        df.loc[:, col].replace(999,0,inplace=True)\n",
    "        df.loc[:, col].replace('999',0,inplace=True)\n",
    "        df.loc[:, col].replace('UNDEFINED', 0, inplace=True)\n",
    "        df.loc[:, col].replace('SKIPPED', 0, inplace=True)\n",
    "        df.loc[:, col].replace('.', 0, inplace=True)\n",
    "        df.loc[:, col] = df.loc[:, col].astype('int64')\n",
    "    return"
   ]
  },
  {
   "cell_type": "markdown",
   "id": "50ce87b4",
   "metadata": {},
   "source": [
    "<h1>\n",
    "    Import raw data files\n",
    "</h1>"
   ]
  },
  {
   "cell_type": "code",
   "execution_count": 5,
   "id": "98213e9a",
   "metadata": {},
   "outputs": [],
   "source": [
    "#Importing all scored files\n",
    "mp_literacy_scored = pd.read_excel(\"./2022_11_27_mp_literacy_total_scores.xlsx\", index_col=[0])\n",
    "mp_numeracy_scored = pd.read_excel(\"./2022_11_08_mp_numeracy_total_scores.xlsx\", index_col=[0])\n",
    "up_literacy_scored = pd.read_excel(\"./2022_11_27_up_literacy_total_scores.xlsx\", index_col=[0])\n",
    "up_numeracy_scored = pd.read_excel(\"./2022_11_08_up_numeracy_total_scores.xlsx\", index_col=[0])"
   ]
  },
  {
   "cell_type": "code",
   "execution_count": 6,
   "id": "60563698",
   "metadata": {},
   "outputs": [],
   "source": [
    "up_literacy_raw = pd.read_excel(\"./2022_11_27_up_raw_literacy_cleaned.xlsx\", index_col=[0])\n",
    "up_numeracy_raw = pd.read_excel(\"./2022_11_08_up_raw_numeracy_cleaned.xlsx\", index_col=[0])\n",
    "mp_literacy_raw = pd.read_excel(\"./2022_11_27_mp_raw_literacy_cleaned.xlsx\", index_col=[0])\n",
    "mp_numeracy_raw = pd.read_excel(\"./2022_11_08_mp_raw_numeracy_cleaned.xlsx\", index_col=[0])"
   ]
  },
  {
   "cell_type": "code",
   "execution_count": 7,
   "id": "f3d05774",
   "metadata": {},
   "outputs": [
    {
     "data": {
      "text/plain": [
       "True"
      ]
     },
     "execution_count": 7,
     "metadata": {},
     "output_type": "execute_result"
    }
   ],
   "source": [
    "all(col in up_literacy_scored.columns for col in mp_literacy_scored.columns)\n",
    "all(col in up_numeracy_scored.columns for col in mp_numeracy_scored.columns)\n",
    "all(col in up_literacy_raw.columns for col in mp_literacy_raw.columns)\n",
    "all(col in up_numeracy_raw.columns for col in mp_numeracy_raw.columns)"
   ]
  },
  {
   "cell_type": "code",
   "execution_count": 8,
   "id": "e0285bec",
   "metadata": {},
   "outputs": [],
   "source": [
    "mp_dictation_validation = pd.read_excel(\"./mp_dictation_validation_final.xlsx\", index_col=[0])\n",
    "up_dictation_validation = pd.read_excel(\"./up_dictation_validation_final.xlsx\", index_col=[0])"
   ]
  },
  {
   "cell_type": "code",
   "execution_count": 9,
   "id": "38a2298f",
   "metadata": {},
   "outputs": [],
   "source": [
    "up_dictation_validation = up_dictation_validation.rename(columns={'literacy9a_total':'9a','literacy9b_total':'9b'})"
   ]
  },
  {
   "cell_type": "code",
   "execution_count": 10,
   "id": "ff5df35e",
   "metadata": {
    "scrolled": true
   },
   "outputs": [],
   "source": [
    "mp_dictation_validation['9a'] = mp_dictation_validation['9a'].replace('Data not found',np.NaN)\n",
    "mp_dictation_validation['9b'] = mp_dictation_validation['9b'].replace('Data not found',np.NaN)\n",
    "mp_dictation_validation['9a'] = mp_dictation_validation['9a'].replace('Data not found ',np.NaN)\n",
    "mp_dictation_validation['9b'] = mp_dictation_validation['9b'].replace('Data not found ',np.NaN)\n",
    "mp_dictation_validation['9a'] = mp_dictation_validation['9a'].replace('Data repeated',np.NaN)\n",
    "mp_dictation_validation['9b'] = mp_dictation_validation['9b'].replace('Data repeated',np.NaN)\n",
    "up_dictation_validation['9a'] = up_dictation_validation['9a'].replace('Data not found',np.NaN)\n",
    "up_dictation_validation['9b'] = up_dictation_validation['9b'].replace('Data not found',np.NaN)\n",
    "up_dictation_validation['9a'] = up_dictation_validation['9a'].replace('Data not found ',np.NaN)\n",
    "up_dictation_validation['9b'] = up_dictation_validation['9b'].replace('Data not found ',np.NaN)\n",
    "up_dictation_validation['9a'] = up_dictation_validation['9a'].replace('Data repeated',np.NaN)\n",
    "up_dictation_validation['9b'] = up_dictation_validation['9b'].replace('Data repeated',np.NaN)"
   ]
  },
  {
   "cell_type": "code",
   "execution_count": 11,
   "id": "b8aef1f2",
   "metadata": {},
   "outputs": [
    {
     "data": {
      "text/plain": [
       "array([ 7.,  1.,  9.,  6., nan,  5.,  3., 10.,  8.,  4.,  0.,  2.])"
      ]
     },
     "execution_count": 11,
     "metadata": {},
     "output_type": "execute_result"
    }
   ],
   "source": [
    "up_dictation_validation['9a'].unique()"
   ]
  },
  {
   "cell_type": "code",
   "execution_count": 12,
   "id": "d9067c7d",
   "metadata": {},
   "outputs": [],
   "source": [
    "mp_dict_val = mp_dictation_validation[['school_details.UDISE_cd_label',\n",
    " 'SI_std_name',\n",
    " 'student_age',\n",
    " '9a',\n",
    " '9b']]\n",
    "\n",
    "mp_literacy_scored = pd.merge(mp_literacy_scored,mp_dict_val,\\\n",
    "                              how='left',on=['school_details.UDISE_cd_label',\\\n",
    "                                                'SI_std_name',\\\n",
    "                                                'student_age'])"
   ]
  },
  {
   "cell_type": "code",
   "execution_count": 13,
   "id": "3eaa06af",
   "metadata": {},
   "outputs": [],
   "source": [
    "mp_literacy_scored['literacy9a_total'] = mp_literacy_scored['9a'].combine_first(mp_literacy_scored['literacy9a_total'])\n",
    "mp_literacy_scored['literacy9b_total'] = mp_literacy_scored['9b'].combine_first(mp_literacy_scored['literacy9b_total'])\n",
    "mp_literacy_scored.drop(['9a', '9b'], axis=1, inplace=True)\n"
   ]
  },
  {
   "cell_type": "code",
   "execution_count": 14,
   "id": "ed5016a1",
   "metadata": {},
   "outputs": [],
   "source": [
    "up_dict_val = up_dictation_validation[['school_details.UDISE_cd_label',\n",
    " 'SI_std_name',\n",
    " 'student_age',\n",
    " '9a',\n",
    " '9b']]\n",
    "\n",
    "up_literacy_scored = pd.merge(up_literacy_scored,up_dict_val,\\\n",
    "                              how='left',on=['school_details.UDISE_cd_label',\\\n",
    "                                                'SI_std_name',\\\n",
    "                                                'student_age'])"
   ]
  },
  {
   "cell_type": "code",
   "execution_count": 15,
   "id": "3cecae97",
   "metadata": {},
   "outputs": [],
   "source": [
    "up_literacy_scored['literacy9a_total'] = up_literacy_scored['9a'].combine_first(up_literacy_scored['literacy9a_total'])\n",
    "up_literacy_scored['literacy9b_total'] = up_literacy_scored['9b'].combine_first(up_literacy_scored['literacy9b_total'])\n",
    "up_literacy_scored.drop(['9a', '9b'], axis=1, inplace=True)\n"
   ]
  },
  {
   "cell_type": "code",
   "execution_count": 16,
   "id": "9dc837f3",
   "metadata": {},
   "outputs": [],
   "source": [
    "mp_grouped = mp_numeracy_scored.groupby('school_details.UDISE_cd_label')['SI_std_name'].count().to_frame('cluster_size')\n",
    "\n",
    "up_grouped = up_numeracy_scored.groupby('school_details.UDISE_cd_label')['SI_std_name'].count().to_frame('cluster_size')"
   ]
  },
  {
   "cell_type": "code",
   "execution_count": 17,
   "id": "887b5855",
   "metadata": {},
   "outputs": [],
   "source": [
    "mp_included_udise = mp_grouped[mp_grouped.cluster_size >=3].index.to_list()\n",
    "\n",
    "up_included_udise = up_grouped[up_grouped.cluster_size >=5].index.to_list()"
   ]
  },
  {
   "cell_type": "code",
   "execution_count": 19,
   "id": "f40d68e2",
   "metadata": {},
   "outputs": [
    {
     "data": {
      "text/plain": [
       "[23070107302,\n",
       " 23070108204,\n",
       " 23070110202,\n",
       " 23070111205,\n",
       " 23070111801,\n",
       " 23070112804,\n",
       " 23070116701,\n",
       " 23070118402,\n",
       " 23070300901,\n",
       " 23070301001,\n",
       " 23070302102,\n",
       " 23070305001,\n",
       " 23070306303,\n",
       " 23070307501,\n",
       " 23070307902,\n",
       " 23070310802,\n",
       " 23070312004,\n",
       " 23070312503,\n",
       " 23070313101,\n",
       " 23070314203,\n",
       " 23070318701,\n",
       " 23070322901,\n",
       " 23070328701,\n",
       " 23070328801,\n",
       " 23070402601,\n",
       " 23070404002,\n",
       " 23070407202,\n",
       " 23070407803,\n",
       " 23070409002,\n",
       " 23070412701,\n",
       " 23070412802,\n",
       " 23070415404,\n",
       " 23070417003,\n",
       " 23070417004,\n",
       " 23070419602,\n",
       " 23070420004,\n",
       " 23070431901,\n",
       " 23070436601,\n",
       " 23070437501,\n",
       " 23070438101,\n",
       " 23070604503,\n",
       " 23070604604,\n",
       " 23070605102,\n",
       " 23070605301,\n",
       " 23070605901,\n",
       " 23070614201,\n",
       " 23070616601,\n",
       " 23070616901,\n",
       " 23070617402,\n",
       " 23070629301,\n",
       " 23070629701,\n",
       " 23070900101,\n",
       " 23070905805,\n",
       " 23070906102,\n",
       " 23070908502,\n",
       " 23070909203,\n",
       " 23070909502,\n",
       " 23070914601,\n",
       " 23070916001,\n",
       " 23070917301,\n",
       " 23070932101,\n",
       " 23070934801,\n",
       " 23070938902,\n",
       " 23210101301,\n",
       " 23210111002,\n",
       " 23210411401,\n",
       " 23210507801,\n",
       " 23210606601,\n",
       " 23220402905,\n",
       " 23220404305,\n",
       " 23220405102,\n",
       " 23220408801,\n",
       " 23220408901,\n",
       " 23220410301,\n",
       " 23220410401,\n",
       " 23220411001,\n",
       " 23220412001,\n",
       " 23220412204,\n",
       " 23220412602,\n",
       " 23220413303,\n",
       " 23220500102,\n",
       " 23220500203,\n",
       " 23220500303,\n",
       " 23220502701,\n",
       " 23220503205,\n",
       " 23220505512,\n",
       " 23220506701,\n",
       " 23220507104,\n",
       " 23220507605,\n",
       " 23220509301,\n",
       " 23220513101,\n",
       " 23220513202,\n",
       " 23220600106,\n",
       " 23220600701,\n",
       " 23220601102,\n",
       " 23220602802,\n",
       " 23220603303,\n",
       " 23220603401,\n",
       " 23220604301,\n",
       " 23220605849,\n",
       " 23220606702,\n",
       " 23220608001,\n",
       " 23220608102,\n",
       " 23220608702,\n",
       " 23220609101,\n",
       " 23220609502,\n",
       " 23220614301,\n",
       " 23220615306,\n",
       " 23220615312,\n",
       " 23220616001,\n",
       " 23220619202,\n",
       " 23220620004,\n",
       " 23220620601,\n",
       " 23220621202,\n",
       " 23220621902,\n",
       " 23220700305,\n",
       " 23220700505,\n",
       " 23220700703,\n",
       " 23220701602,\n",
       " 23220701702,\n",
       " 23220704204,\n",
       " 23220704705,\n",
       " 23220704804,\n",
       " 23220706601,\n",
       " 23220709501,\n",
       " 23220709603,\n",
       " 23220709801,\n",
       " 23220709901,\n",
       " 23220712406,\n",
       " 23220714301,\n",
       " 23220714402,\n",
       " 23310109901,\n",
       " 23310110001,\n",
       " 23310112502,\n",
       " 23310126501,\n",
       " 23310201702,\n",
       " 23310210001,\n",
       " 23310211501,\n",
       " 23310212901,\n",
       " 23310301301,\n",
       " 23310302701,\n",
       " 23310303002,\n",
       " 23310308202,\n",
       " 23310309203,\n",
       " 23310310501,\n",
       " 23310311402,\n",
       " 23310313702,\n",
       " 23310316501,\n",
       " 23310316603,\n",
       " 23310316901,\n",
       " 23310317401,\n",
       " 23310318201,\n",
       " 23310319301,\n",
       " 23310320101,\n",
       " 23310401401,\n",
       " 23310404701,\n",
       " 23310404901,\n",
       " 23310405302,\n",
       " 23310406205,\n",
       " 23310406206,\n",
       " 23310406702,\n",
       " 23310406901,\n",
       " 23310409701,\n",
       " 23310413206,\n",
       " 23310417001,\n",
       " 23310417401,\n",
       " 23310506103,\n",
       " 23310509801,\n",
       " 23310517101,\n",
       " 23310601105,\n",
       " 23310602802,\n",
       " 23310605501,\n",
       " 23310606501,\n",
       " 23310606802,\n",
       " 23310607101,\n",
       " 23310607802,\n",
       " 23310613701,\n",
       " 23310614603,\n",
       " 23310615102,\n",
       " 23310616401,\n",
       " 23310616602,\n",
       " 23310616703,\n",
       " 23310621602,\n",
       " 23310621901,\n",
       " 23310702101,\n",
       " 23310702903,\n",
       " 23310702905,\n",
       " 23310720902,\n",
       " 23310723118,\n",
       " 23330101301,\n",
       " 23330102204,\n",
       " 23330102301,\n",
       " 23330104201,\n",
       " 23330105402,\n",
       " 23330108202,\n",
       " 23330110102,\n",
       " 23330110202,\n",
       " 23330111101,\n",
       " 23330111704,\n",
       " 23330111801,\n",
       " 23330112201,\n",
       " 23330115001,\n",
       " 23330115101,\n",
       " 23330117403,\n",
       " 23330119706,\n",
       " 23330121701,\n",
       " 23330122603,\n",
       " 23330126101,\n",
       " 23330127304,\n",
       " 23330127401,\n",
       " 23330131001,\n",
       " 23330208101,\n",
       " 23330208201,\n",
       " 23330209601,\n",
       " 23330215402,\n",
       " 23330300102,\n",
       " 23330302301,\n",
       " 23330302704,\n",
       " 23330303701,\n",
       " 23330307502,\n",
       " 23330308002,\n",
       " 23330310702,\n",
       " 23330401704,\n",
       " 23330403504,\n",
       " 23330406905,\n",
       " 23330407402,\n",
       " 23330408503,\n",
       " 23330408803,\n",
       " 23330409402,\n",
       " 23330410401,\n",
       " 23330411301,\n",
       " 23330412601,\n",
       " 23330413701,\n",
       " 23330415003,\n",
       " 23330415601,\n",
       " 23330418801,\n",
       " 23330501603,\n",
       " 23330504301,\n",
       " 23330505402,\n",
       " 23330506203,\n",
       " 23330507601,\n",
       " 23330507906,\n",
       " 23330511601,\n",
       " 23330511703,\n",
       " 23330512203,\n",
       " 23330516101,\n",
       " 23330518101,\n",
       " 23330519201,\n",
       " 23330519601,\n",
       " 23330523502,\n",
       " 23330526302,\n",
       " 23330532001]"
      ]
     },
     "execution_count": 19,
     "metadata": {},
     "output_type": "execute_result"
    }
   ],
   "source": [
    "mp_included_udise"
   ]
  },
  {
   "cell_type": "code",
   "execution_count": 220,
   "id": "52c3eb24",
   "metadata": {
    "scrolled": true
   },
   "outputs": [],
   "source": [
    "mp_numeracy_scored = mp_numeracy_scored[mp_numeracy_scored['school_details.UDISE_cd_label'].isin(mp_included_udise)]\n",
    "\n",
    "up_numeracy_scored = up_numeracy_scored[up_numeracy_scored['school_details.UDISE_cd_label'].isin(up_included_udise)]"
   ]
  },
  {
   "cell_type": "code",
   "execution_count": 221,
   "id": "a7eac9fc",
   "metadata": {},
   "outputs": [],
   "source": [
    "mp_supervisors = ['Manohar', 'Jeevan', 'Vikram']\n",
    "\n",
    "mp_irr_filter = mp_numeracy_scored.duplicated(subset=['school_details.UDISE_cd_label', 'SI_std_name','student_age'],keep=False)\n",
    "\n",
    "mp_irr_assessments = mp_numeracy_scored[mp_irr_filter & mp_numeracy_scored.tabletUserName.isin(mp_supervisors)]\n",
    "\n",
    "mp_numeracy_scored.drop(labels=mp_irr_assessments.index, inplace=True)"
   ]
  },
  {
   "cell_type": "code",
   "execution_count": 222,
   "id": "1f3e79d7",
   "metadata": {},
   "outputs": [],
   "source": [
    "up_supervisors = ['Ambrish', 'Ashfak', 'Hina', 'Prrmshankar', 'Saurabh', 'Kuldeep']\n",
    "\n",
    "up_irr_filter = up_numeracy_scored.duplicated(subset=['school_details.UDISE_cd_label', 'SI_std_name','student_age'],keep=False)\n",
    "\n",
    "up_irr_assessments = up_numeracy_scored[up_irr_filter & up_numeracy_scored.tabletUserName.isin(up_supervisors)]\n",
    "\n",
    "up_numeracy_scored.drop(labels=up_irr_assessments.index, inplace=True)"
   ]
  },
  {
   "cell_type": "code",
   "execution_count": 223,
   "id": "487ca779",
   "metadata": {},
   "outputs": [],
   "source": [
    "#Merging state files\n",
    "literacy_scored = pd.concat([mp_literacy_scored,up_literacy_scored],join='inner')\n",
    "numeracy_scored = pd.concat([mp_numeracy_scored,up_numeracy_scored],join='inner')"
   ]
  },
  {
   "cell_type": "code",
   "execution_count": 224,
   "id": "c6e2143c",
   "metadata": {},
   "outputs": [],
   "source": [
    "#Cleaning up state name\n",
    "literacy_scored['school_details.State_label'] = literacy_scored['school_details.State_label'].replace('Madhya_Pradesh','Madhya Pradesh')\n",
    "literacy_scored['school_details.State_label'] = literacy_scored['school_details.State_label'].replace('Uttar_Pradesh','Uttar Pradesh')\n",
    "numeracy_scored['school_details.State_label'] = numeracy_scored['school_details.State_label'].replace('Madhya_Pradesh','Madhya Pradesh')\n",
    "numeracy_scored['school_details.State_label'] = numeracy_scored['school_details.State_label'].replace('Uttar_Pradesh','Uttar Pradesh')                                                                                                    "
   ]
  },
  {
   "cell_type": "code",
   "execution_count": 225,
   "id": "9fe00588",
   "metadata": {},
   "outputs": [],
   "source": [
    "#renaming variables for ease and use in R\n",
    "literacy_scored = literacy_scored.rename(columns = {'school_details.State_label':'State',\n",
    "                                  'school_details.District_label':'District',\n",
    "                                  'school_details.Block_label':'Block',\n",
    "                                  'school_details.School_label':'School',\n",
    "                                  'school_details.UDISE_cd_label':'UDISE',\n",
    "                                  'SI_std_name':'Name',\n",
    "                                  'student_age':'Age',\n",
    "                                  'student_gender':'Gender',\n",
    "                                 'literacy1_total':'Listening_Comprehension',\n",
    "                                 'literacy2_total':'Oral_Vocabulary',\n",
    "                                 'literacy3_total':'Initial_Sound_Identification',\n",
    "                                 'literacy4_ut_total':'Letter_Accuracy',\n",
    "                                 'literacy4_tt_total':'Letter_Fluency_Count',\n",
    "                                 'literacy4_tt_time_taken':'Letter_Fluency_Time',\n",
    "                                 'literacy4_tt_cpm':'Letter_Fluency',\n",
    "                                 'literacy5_ut_total':'Word_Accuracy',\n",
    "                                 'literacy5_tt_total':'Word_Fluency_Count',\n",
    "                                 'literacy5_tt_time_taken':'Word_Fluency_Time',\n",
    "                                 'literacy5_tt_cpm':'Word_Fluency',\n",
    "                                 'literacy6_total':'Non_Word_Fluency_Count',\n",
    "                                 'literacy6_tt_time_taken':'Non_Word_Fluency_Time',\n",
    "                                 'literacy6_tt_cpm':'Non_Word_Fluency',\n",
    "                                 'literacy7_total':'Oral_Reading_Fluency_Count',\n",
    "                                 'literacy7_tt_time_taken':'Oral_Reading_Fluency_Time',\n",
    "                                 'literacy7_tt_cpm':'Oral_Reading_Fluency',\n",
    "                                 'literacy8_reading_total':'Reading_Comprehension_Accuracy',\n",
    "                                 'literacy8_comprehension_total':'Reading_Comprehension_Questions',\n",
    "                                 'literacy9a_total':'Letter_Writing',\n",
    "                                 'literacy9b_total':'Word_Writing'\n",
    "                                                   })\n",
    "numeracy_scored = numeracy_scored.rename(columns = {'school_details.State_label':'State',\n",
    "                                  'school_details.District_label':'District',\n",
    "                                  'school_details.Block_label':'Block',\n",
    "                                  'school_details.School_label':'School',\n",
    "                                  'school_details.UDISE_cd_label':'UDISE',\n",
    "                                  'SI_std_name':'Name',\n",
    "                                  'student_age':'Age',\n",
    "                                  'student_gender':'Gender',\n",
    "                                 'numeracy1_total':'Counting_Count',\n",
    "                                 'numeracy1_tt_time_taken':'Counting_Time',\n",
    "                                 'numeracy1_tt_cpm':'Counting',\n",
    "                                 'numeracy2_ut_total':'Number_Recognition_Untimed',\n",
    "                                 'numeracy2_tt_total':'Number_Recognition_Timed_Count',\n",
    "                                 'numeracy2_tt_time_taken':'Number_Recognition_Timed_Time',\n",
    "                                 'numeracy2_tt_cpm':'Number_Recognition_Timed',\n",
    "                                 'numeracy3_total':'Number_Comparison',\n",
    "                                 'numeracy4_total':'Counting_in_Bundles',\n",
    "                                 'numeracy5_total':'Missing_Numbers',\n",
    "                                 'numeracy6_total':'Addition',\n",
    "                                 'numeracy7_total':'Subtraction',\n",
    "                                 'numeracy8_total':'Word_Problems',\n",
    "                                 'numeracy9a_total':'Shape_Recognition_Circle',\n",
    "                                 'numeracy9b_total':'Shape_Recognition_Square'                \n",
    "                                                   })"
   ]
  },
  {
   "cell_type": "code",
   "execution_count": 226,
   "id": "bd840468",
   "metadata": {},
   "outputs": [],
   "source": [
    "literacy_scored['id'] = literacy_scored.index\n",
    "numeracy_scored['id'] = numeracy_scored.index"
   ]
  },
  {
   "cell_type": "code",
   "execution_count": 227,
   "id": "d00d0c41",
   "metadata": {},
   "outputs": [],
   "source": [
    "main_var = [\n",
    " 'id',\n",
    " 'tabletUserName',\n",
    " 'assessment_date',\n",
    " 'State',\n",
    " 'District',\n",
    " 'Block',\n",
    " 'School',\n",
    " 'UDISE',\n",
    " 'Name',\n",
    " 'Age',\n",
    " 'Gender']"
   ]
  },
  {
   "cell_type": "code",
   "execution_count": 228,
   "id": "0575c927",
   "metadata": {},
   "outputs": [],
   "source": [
    "all_var_lit = literacy_scored.columns.to_list()"
   ]
  },
  {
   "cell_type": "code",
   "execution_count": 229,
   "id": "487a4085",
   "metadata": {},
   "outputs": [],
   "source": [
    "all_var_num = numeracy_scored.columns.to_list()"
   ]
  },
  {
   "cell_type": "code",
   "execution_count": 230,
   "id": "736b9049",
   "metadata": {},
   "outputs": [],
   "source": [
    "rest_var_lit = [x for x in all_var_lit if x not in main_var]"
   ]
  },
  {
   "cell_type": "code",
   "execution_count": 231,
   "id": "0d2498b9",
   "metadata": {},
   "outputs": [],
   "source": [
    "rest_var_num = [x for x in all_var_num if x not in main_var]"
   ]
  },
  {
   "cell_type": "code",
   "execution_count": 232,
   "id": "c19c161a",
   "metadata": {
    "scrolled": true
   },
   "outputs": [],
   "source": [
    "literacy_scored_long = pd.melt(literacy_scored,id_vars = main_var,value_vars = rest_var_lit)"
   ]
  },
  {
   "cell_type": "code",
   "execution_count": 233,
   "id": "f40da65c",
   "metadata": {},
   "outputs": [],
   "source": [
    "numeracy_scored_long = pd.melt(numeracy_scored,id_vars = main_var,value_vars = rest_var_num)"
   ]
  },
  {
   "cell_type": "code",
   "execution_count": 234,
   "id": "970aee82",
   "metadata": {},
   "outputs": [],
   "source": [
    "literacy_scored_long['Type'] = 'literacy'"
   ]
  },
  {
   "cell_type": "code",
   "execution_count": 235,
   "id": "b260f66c",
   "metadata": {},
   "outputs": [],
   "source": [
    "numeracy_scored_long['Type'] = 'numeracy'"
   ]
  },
  {
   "cell_type": "code",
   "execution_count": 236,
   "id": "d31c3a4c",
   "metadata": {},
   "outputs": [
    {
     "name": "stderr",
     "output_type": "stream",
     "text": [
      "/var/folders/0c/r0hw428532s7bttp9my0ym_00000gn/T/ipykernel_66236/2693788372.py:1: DtypeWarning: Columns (0) have mixed types. Specify dtype option on import or set low_memory=False.\n",
      "  lat_long = pd.read_csv(\"../Results/csf_lat_long.csv\")\n"
     ]
    }
   ],
   "source": [
    "lat_long = pd.read_csv(\"../Results/csf_lat_long.csv\")"
   ]
  },
  {
   "cell_type": "code",
   "execution_count": 237,
   "id": "b97e0f89",
   "metadata": {},
   "outputs": [],
   "source": [
    "scored_long = pd.concat([literacy_scored_long,numeracy_scored_long],join='inner')"
   ]
  },
  {
   "cell_type": "code",
   "execution_count": 238,
   "id": "e21ddb08",
   "metadata": {},
   "outputs": [],
   "source": [
    "scored_long = scored_long.merge(lat_long[['udise_sch_code','latitude','longitude']]\n",
    "                                                  ,left_on=\"UDISE\"\n",
    "                                                  ,right_on=\"udise_sch_code\"\n",
    "                                                  ,how='left'\n",
    "                                                  ).drop(columns=['udise_sch_code'])"
   ]
  },
  {
   "cell_type": "code",
   "execution_count": 239,
   "id": "a165030f",
   "metadata": {},
   "outputs": [],
   "source": [
    "scored_long['cohort'] = np.where(scored_long['Block'] == 'Sewapuri','T1'\n",
    "                                          ,np.where(scored_long['District'] == 'Varanasi','T2'\n",
    "                                              ,np.where(scored_long['District'] == 'Sehore','T'\n",
    "                                                        ,np.where(scored_long['District'] == 'Shajapur','T'\n",
    "                                                                 ,'C'))))\n",
    "                                                    "
   ]
  },
  {
   "cell_type": "code",
   "execution_count": 240,
   "id": "5ef2e0d3",
   "metadata": {},
   "outputs": [],
   "source": [
    "scored_long.to_csv(\"../Results/scored_long.csv\")"
   ]
  },
  {
   "cell_type": "code",
   "execution_count": 16,
   "id": "eac74e84",
   "metadata": {
    "scrolled": false
   },
   "outputs": [
    {
     "name": "stderr",
     "output_type": "stream",
     "text": [
      "/var/folders/0c/r0hw428532s7bttp9my0ym_00000gn/T/ipykernel_66236/1315116701.py:1: DtypeWarning: Columns (1,8) have mixed types. Specify dtype option on import or set low_memory=False.\n",
      "  scored_long = pd.read_csv(\"../Results/scored_long.csv\")\n"
     ]
    }
   ],
   "source": [
    "scored_long = pd.read_csv(\"../Results/scored_long.csv\")"
   ]
  },
  {
   "cell_type": "code",
   "execution_count": 253,
   "id": "b4be9c82",
   "metadata": {},
   "outputs": [
    {
     "data": {
      "text/html": [
       "<div>\n",
       "<style scoped>\n",
       "    .dataframe tbody tr th:only-of-type {\n",
       "        vertical-align: middle;\n",
       "    }\n",
       "\n",
       "    .dataframe tbody tr th {\n",
       "        vertical-align: top;\n",
       "    }\n",
       "\n",
       "    .dataframe thead th {\n",
       "        text-align: right;\n",
       "    }\n",
       "</style>\n",
       "<table border=\"1\" class=\"dataframe\">\n",
       "  <thead>\n",
       "    <tr style=\"text-align: right;\">\n",
       "      <th></th>\n",
       "      <th>id</th>\n",
       "      <th>tabletUserName</th>\n",
       "      <th>assessment_date</th>\n",
       "      <th>State</th>\n",
       "      <th>District</th>\n",
       "      <th>Block</th>\n",
       "      <th>School</th>\n",
       "      <th>UDISE</th>\n",
       "      <th>Name</th>\n",
       "      <th>Age</th>\n",
       "      <th>Gender</th>\n",
       "      <th>variable</th>\n",
       "      <th>value</th>\n",
       "      <th>Type</th>\n",
       "      <th>latitude</th>\n",
       "      <th>longitude</th>\n",
       "      <th>cohort</th>\n",
       "    </tr>\n",
       "  </thead>\n",
       "  <tbody>\n",
       "    <tr>\n",
       "      <th>0</th>\n",
       "      <td>0</td>\n",
       "      <td>Jeevan</td>\n",
       "      <td>2022-09-17</td>\n",
       "      <td>Madhya Pradesh</td>\n",
       "      <td>Shajapur</td>\n",
       "      <td>M. Barodiya</td>\n",
       "      <td>GIRLS P.S. PALSAWAD</td>\n",
       "      <td>23220413303</td>\n",
       "      <td>Bhumika</td>\n",
       "      <td>5.0</td>\n",
       "      <td>Female</td>\n",
       "      <td>Listening_Comprehension</td>\n",
       "      <td>3.0</td>\n",
       "      <td>literacy</td>\n",
       "      <td>23.372602</td>\n",
       "      <td>76.558021</td>\n",
       "      <td>T</td>\n",
       "    </tr>\n",
       "    <tr>\n",
       "      <th>1</th>\n",
       "      <td>1</td>\n",
       "      <td>Kajal</td>\n",
       "      <td>2022-09-23</td>\n",
       "      <td>Madhya Pradesh</td>\n",
       "      <td>Vidisha</td>\n",
       "      <td>Gyaraspur</td>\n",
       "      <td>PS NIPANIYA</td>\n",
       "      <td>23310211501</td>\n",
       "      <td>pavan kushwah</td>\n",
       "      <td>6.0</td>\n",
       "      <td>Male</td>\n",
       "      <td>Listening_Comprehension</td>\n",
       "      <td>4.0</td>\n",
       "      <td>literacy</td>\n",
       "      <td>23.607171</td>\n",
       "      <td>77.942319</td>\n",
       "      <td>C</td>\n",
       "    </tr>\n",
       "    <tr>\n",
       "      <th>2</th>\n",
       "      <td>2</td>\n",
       "      <td>Rahnuma</td>\n",
       "      <td>2022-09-16</td>\n",
       "      <td>Madhya Pradesh</td>\n",
       "      <td>Shajapur</td>\n",
       "      <td>Shajapur</td>\n",
       "      <td>P.S. RATANPURA</td>\n",
       "      <td>23220603401</td>\n",
       "      <td>lakshmi gurjar</td>\n",
       "      <td>5.0</td>\n",
       "      <td>Female</td>\n",
       "      <td>Listening_Comprehension</td>\n",
       "      <td>1.0</td>\n",
       "      <td>literacy</td>\n",
       "      <td>23.240781</td>\n",
       "      <td>76.469734</td>\n",
       "      <td>T</td>\n",
       "    </tr>\n",
       "    <tr>\n",
       "      <th>3</th>\n",
       "      <td>3</td>\n",
       "      <td>Vaibhav</td>\n",
       "      <td>2022-09-23</td>\n",
       "      <td>Madhya Pradesh</td>\n",
       "      <td>Shajapur</td>\n",
       "      <td>Shajapur</td>\n",
       "      <td>BOYS M.S. MAHUPURA SHAJAPUR</td>\n",
       "      <td>23220605849</td>\n",
       "      <td>radhika rodu</td>\n",
       "      <td>6.0</td>\n",
       "      <td>Female</td>\n",
       "      <td>Listening_Comprehension</td>\n",
       "      <td>0.0</td>\n",
       "      <td>literacy</td>\n",
       "      <td>23.425583</td>\n",
       "      <td>76.284243</td>\n",
       "      <td>T</td>\n",
       "    </tr>\n",
       "    <tr>\n",
       "      <th>4</th>\n",
       "      <td>4</td>\n",
       "      <td>Nanda</td>\n",
       "      <td>2022-09-16</td>\n",
       "      <td>Madhya Pradesh</td>\n",
       "      <td>Shajapur</td>\n",
       "      <td>Shajapur</td>\n",
       "      <td>NEW M.S. DILLOD</td>\n",
       "      <td>23220619202</td>\n",
       "      <td>Subham Ramesh</td>\n",
       "      <td>6.0</td>\n",
       "      <td>Male</td>\n",
       "      <td>Listening_Comprehension</td>\n",
       "      <td>0.0</td>\n",
       "      <td>literacy</td>\n",
       "      <td>23.362712</td>\n",
       "      <td>76.269730</td>\n",
       "      <td>T</td>\n",
       "    </tr>\n",
       "  </tbody>\n",
       "</table>\n",
       "</div>"
      ],
      "text/plain": [
       "   id tabletUserName assessment_date           State  District        Block  \\\n",
       "0   0         Jeevan      2022-09-17  Madhya Pradesh  Shajapur  M. Barodiya   \n",
       "1   1          Kajal      2022-09-23  Madhya Pradesh   Vidisha    Gyaraspur   \n",
       "2   2        Rahnuma      2022-09-16  Madhya Pradesh  Shajapur     Shajapur   \n",
       "3   3        Vaibhav      2022-09-23  Madhya Pradesh  Shajapur     Shajapur   \n",
       "4   4          Nanda      2022-09-16  Madhya Pradesh  Shajapur     Shajapur   \n",
       "\n",
       "                        School        UDISE            Name  Age  Gender  \\\n",
       "0          GIRLS P.S. PALSAWAD  23220413303         Bhumika  5.0  Female   \n",
       "1                  PS NIPANIYA  23310211501   pavan kushwah  6.0    Male   \n",
       "2               P.S. RATANPURA  23220603401  lakshmi gurjar  5.0  Female   \n",
       "3  BOYS M.S. MAHUPURA SHAJAPUR  23220605849    radhika rodu  6.0  Female   \n",
       "4              NEW M.S. DILLOD  23220619202   Subham Ramesh  6.0    Male   \n",
       "\n",
       "                  variable  value      Type   latitude  longitude cohort  \n",
       "0  Listening_Comprehension    3.0  literacy  23.372602  76.558021      T  \n",
       "1  Listening_Comprehension    4.0  literacy  23.607171  77.942319      C  \n",
       "2  Listening_Comprehension    1.0  literacy  23.240781  76.469734      T  \n",
       "3  Listening_Comprehension    0.0  literacy  23.425583  76.284243      T  \n",
       "4  Listening_Comprehension    0.0  literacy  23.362712  76.269730      T  "
      ]
     },
     "execution_count": 253,
     "metadata": {},
     "output_type": "execute_result"
    }
   ],
   "source": [
    "scored_long.head()"
   ]
  },
  {
   "cell_type": "code",
   "execution_count": 254,
   "id": "bef70c9d",
   "metadata": {},
   "outputs": [],
   "source": [
    "scored_long_lit = scored_long[scored_long[\"Type\"]=='literacy']\n",
    "scored_long_num = scored_long[scored_long[\"Type\"]=='numeracy']"
   ]
  },
  {
   "cell_type": "code",
   "execution_count": 255,
   "id": "d1b65709",
   "metadata": {
    "scrolled": true
   },
   "outputs": [
    {
     "name": "stderr",
     "output_type": "stream",
     "text": [
      "/opt/anaconda3/lib/python3.9/site-packages/pandas/core/algorithms.py:798: FutureWarning: In a future version, the Index constructor will not infer numeric dtypes when passed object-dtype sequences (matching Series behavior)\n",
      "  uniques = Index(uniques)\n",
      "/opt/anaconda3/lib/python3.9/site-packages/pandas/core/algorithms.py:798: FutureWarning: In a future version, the Index constructor will not infer numeric dtypes when passed object-dtype sequences (matching Series behavior)\n",
      "  uniques = Index(uniques)\n"
     ]
    }
   ],
   "source": [
    "scored_wide_lit = pd.pivot(scored_long_lit[['id','Name','UDISE','cohort','State','variable','value']]\n",
    "                        ,index=['id','Name','UDISE','cohort','State']\n",
    "                        ,columns = 'variable'\n",
    "                        , values= 'value')\n",
    "\n",
    "scored_wide_num = pd.pivot(scored_long_num[['id','Name','UDISE','cohort','State','variable','value']]\n",
    "                        ,index=['id','Name','UDISE','cohort','State']\n",
    "                        ,columns = 'variable'\n",
    "                        , values= 'value')\n",
    "\n"
   ]
  },
  {
   "cell_type": "code",
   "execution_count": 256,
   "id": "2a949161",
   "metadata": {},
   "outputs": [],
   "source": [
    "scored_wide_lit.to_csv(\"../Results/scored_wide_lit.csv\")\n",
    "scored_wide_num.to_csv(\"../Results/scored_wide_num.csv\")"
   ]
  },
  {
   "cell_type": "code",
   "execution_count": 18,
   "id": "d4fe93e6",
   "metadata": {},
   "outputs": [],
   "source": [
    "# dict = {'Uttar Pradesh':[5,['literacy','numeracy']],'Madhya Pradesh':[3,['literacy','numeracy']]}"
   ]
  },
  {
   "cell_type": "code",
   "execution_count": 19,
   "id": "10decbeb",
   "metadata": {},
   "outputs": [],
   "source": [
    "# for key, value in dict.items():\n",
    "#     for type in value[1]:\n",
    "#         df = scored_long[(scored_long[\"Type\"]== type) & (scored_long[\"State\"]==key)].\\\n",
    "#         groupby(['UDISE'],axis=0)['Name'].\\\n",
    "#         nunique().to_frame('Count')\n",
    "#         included = df[df['Count'] >= value[0]].index.to_list()\n",
    "#         scored_long = scored_long[scored_long['UDISE'].isin(included)]"
   ]
  },
  {
   "cell_type": "code",
   "execution_count": 62,
   "id": "ad59a0ba",
   "metadata": {},
   "outputs": [],
   "source": [
    "mp_grouped = mp_numeracy_raw.groupby('school_details.UDISE_cd_label')['SI_std_name'].count().to_frame('cluster_size')\n",
    "\n",
    "up_grouped = up_numeracy_raw.groupby('school_details.UDISE_cd_label')['SI_std_name'].count().to_frame('cluster_size')"
   ]
  },
  {
   "cell_type": "code",
   "execution_count": 63,
   "id": "36523bc1",
   "metadata": {},
   "outputs": [],
   "source": [
    "mp_included_udise = mp_grouped[mp_grouped.cluster_size >=3].index.to_list()\n",
    "\n",
    "up_included_udise = up_grouped[up_grouped.cluster_size >=5].index.to_list()"
   ]
  },
  {
   "cell_type": "code",
   "execution_count": 64,
   "id": "0aef1255",
   "metadata": {
    "scrolled": true
   },
   "outputs": [],
   "source": [
    "mp_numeracy_raw = mp_numeracy_raw[mp_numeracy_raw['school_details.UDISE_cd_label'].isin(mp_included_udise)]\n",
    "\n",
    "up_numeracy_raw = up_numeracy_raw[up_numeracy_raw['school_details.UDISE_cd_label'].isin(up_included_udise)]"
   ]
  },
  {
   "cell_type": "code",
   "execution_count": 65,
   "id": "3356730a",
   "metadata": {},
   "outputs": [],
   "source": [
    "mp_supervisors = ['Manohar', 'Jeevan', 'Vikram']\n",
    "\n",
    "mp_irr_filter = mp_numeracy_raw.duplicated(subset=['school_details.UDISE_cd_label', 'SI_std_name','student_age'],keep=False)\n",
    "\n",
    "mp_irr_assessments = mp_numeracy_raw[mp_irr_filter & mp_numeracy_raw.tabletUserName.isin(mp_supervisors)]\n",
    "\n",
    "mp_numeracy_raw.drop(labels=mp_irr_assessments.index, inplace=True)"
   ]
  },
  {
   "cell_type": "code",
   "execution_count": 66,
   "id": "8fb16906",
   "metadata": {},
   "outputs": [],
   "source": [
    "up_supervisors = ['Ambrish', 'Ashfak', 'Hina', 'Prrmshankar', 'Saurabh', 'Kuldeep']\n",
    "\n",
    "up_irr_filter = up_numeracy_raw.duplicated(subset=['school_details.UDISE_cd_label', 'SI_std_name','student_age'],keep=False)\n",
    "\n",
    "up_irr_assessments = up_numeracy_raw[up_irr_filter & up_numeracy_raw.tabletUserName.isin(up_supervisors)]\n",
    "\n",
    "up_numeracy_raw.drop(labels=up_irr_assessments.index, inplace=True)"
   ]
  },
  {
   "cell_type": "code",
   "execution_count": 67,
   "id": "fd0fe47b",
   "metadata": {},
   "outputs": [],
   "source": [
    "#Merging state files for item analysis\n",
    "literacy_raw = pd.concat([mp_literacy_raw,up_literacy_raw],join='inner')\n",
    "numeracy_raw = pd.concat([mp_numeracy_raw,up_numeracy_raw],join='inner')"
   ]
  },
  {
   "cell_type": "code",
   "execution_count": 68,
   "id": "69b16161",
   "metadata": {},
   "outputs": [
    {
     "name": "stderr",
     "output_type": "stream",
     "text": [
      "/var/folders/0c/r0hw428532s7bttp9my0ym_00000gn/T/ipykernel_66236/13276588.py:2: PerformanceWarning: DataFrame is highly fragmented.  This is usually the result of calling `frame.insert` many times, which has poor performance.  Consider joining all columns at once using pd.concat(axis=1) instead. To get a de-fragmented frame, use `newframe = frame.copy()`\n",
      "  numeracy_raw['id']= list(numeracy_raw.index)\n"
     ]
    }
   ],
   "source": [
    "literacy_raw['id']= list(literacy_raw.index)\n",
    "numeracy_raw['id']= list(numeracy_raw.index)"
   ]
  },
  {
   "cell_type": "code",
   "execution_count": 69,
   "id": "8f1d6b24",
   "metadata": {},
   "outputs": [],
   "source": [
    "#renaming variables for ease and use in R\n",
    "literacy_raw = literacy_raw.rename(columns = {'school_details.State_label':'State',\n",
    "                                  'school_details.District_label':'District',\n",
    "                                  'school_details.Block_label':'Block',\n",
    "                                  'school_details.School_label':'School',\n",
    "                                  'school_details.UDISE_cd_label':'UDISE',\n",
    "                                  'SI_std_name':'Name',\n",
    "                                  'student_age':'Age',\n",
    "                                  'student_gender':'Gender'\n",
    "                                                   })\n",
    "numeracy_raw = numeracy_raw.rename(columns = {'school_details.State_label':'State',\n",
    "                                  'school_details.District_label':'District',\n",
    "                                  'school_details.Block_label':'Block',\n",
    "                                  'school_details.School_label':'School',\n",
    "                                  'school_details.UDISE_cd_label':'UDISE',\n",
    "                                  'SI_std_name':'Name',\n",
    "                                  'student_age':'Age',\n",
    "                                  'student_gender':'Gender'               \n",
    "                                                   })"
   ]
  },
  {
   "cell_type": "code",
   "execution_count": 70,
   "id": "cea95b82",
   "metadata": {},
   "outputs": [],
   "source": [
    "literacy_subtask_var = [col for col in literacy_raw.columns \n",
    "                        if re.search(r'literacy1_q\\d$', col)\n",
    "                        or re.search(r'literacy2_q\\d+$', col)\n",
    "                        or re.search(r'literacy3_q+', col)\n",
    "                        or re.search(r'literacy4_ut_grid_\\d*$', col)\n",
    "                        or re.search(r'literacy4_tt_grid_\\d*$', col)\n",
    "                        or re.search(r'literacy5_ut_grid_\\d*$', col)\n",
    "                        or re.search(r'literacy5_tt_grid_\\d*$', col)\n",
    "                        or re.search(r'literacy6_tt_grid_\\d*$', col)\n",
    "                        or re.search(r'literacy7_tt_grid_\\d*$', col)\n",
    "                        or re.search(r'literacy8_ut_grid_\\d*$', col)\n",
    "                        or re.search(r'literacy8_ut_q\\d*$', col)\n",
    "                        or re.search(r'literacy9a_ut_grid_\\d*$', col)\n",
    "                        or re.search(r'literacy9b_ut_grid_\\d*$', col)  \n",
    "                       ]"
   ]
  },
  {
   "cell_type": "code",
   "execution_count": 71,
   "id": "2faa1a6d",
   "metadata": {},
   "outputs": [],
   "source": [
    "numeracy_subtask_var = [col for col in numeracy_raw.columns\n",
    "                       if re.search(r'numeracy1_tt_grid_\\d*$', col)\n",
    "                       or re.search(r'numeracy2_ut_grid_\\d*$', col)\n",
    "                       or re.search(r'numeracy2_tt_grid_\\d*$', col)\n",
    "                       or re.search(r'numeracy3\\w*', col)\n",
    "                       or re.search(r'numeracy4_ut_q\\d*$', col)\n",
    "                       or re.search(r'numeracy5_ut_q\\d*$', col)\n",
    "                       or re.search(r'numeracy6_ut_q\\d*$', col)\n",
    "                       or re.search(r'numeracy7_ut_q\\d*$', col)\n",
    "                       or re.search(r'numeracy8_ut_q\\d*$', col)\n",
    "                       or re.search(r'numeracy9a_ut_grid_\\d$', col)\n",
    "                       or re.search(r'numeracy9b_ut_grid_\\d$', col)\n",
    "                       ]"
   ]
  },
  {
   "cell_type": "code",
   "execution_count": 72,
   "id": "fa06862b",
   "metadata": {},
   "outputs": [],
   "source": [
    "literacy_subtask_long = pd.melt(literacy_raw,id_vars = main_var,value_vars = literacy_subtask_var)"
   ]
  },
  {
   "cell_type": "code",
   "execution_count": 73,
   "id": "86addd5c",
   "metadata": {},
   "outputs": [],
   "source": [
    "list_clean = ['value']"
   ]
  },
  {
   "cell_type": "code",
   "execution_count": 74,
   "id": "1efc6de2",
   "metadata": {},
   "outputs": [],
   "source": [
    "clean_scores(list_clean, literacy_subtask_long)"
   ]
  },
  {
   "cell_type": "code",
   "execution_count": 75,
   "id": "7adee38b",
   "metadata": {},
   "outputs": [],
   "source": [
    "literacy_subtask_long[['subtask','item']] = literacy_subtask_long['variable'].str.split('_',1,expand=True)"
   ]
  },
  {
   "cell_type": "code",
   "execution_count": 76,
   "id": "a29d3c2d",
   "metadata": {},
   "outputs": [],
   "source": [
    "literacy_subtask_long['flag'] = literacy_subtask_long['item'].str[:2]"
   ]
  },
  {
   "cell_type": "code",
   "execution_count": 77,
   "id": "aff6cefd",
   "metadata": {},
   "outputs": [],
   "source": [
    "literacy_subtask_long['timed_untimed'] = np.where(literacy_subtask_long['flag']=='tt','tt','ut')"
   ]
  },
  {
   "cell_type": "code",
   "execution_count": 78,
   "id": "d6e99f28",
   "metadata": {},
   "outputs": [],
   "source": [
    "literacy_subtask_long.to_csv(\"../Results/literacy_subtask_scored.csv\")"
   ]
  },
  {
   "cell_type": "code",
   "execution_count": 79,
   "id": "3201364c",
   "metadata": {
    "scrolled": true
   },
   "outputs": [],
   "source": [
    "numeracy_subtask_long = pd.melt(numeracy_raw, id_vars = main_var, value_vars = numeracy_subtask_var)"
   ]
  },
  {
   "cell_type": "code",
   "execution_count": 80,
   "id": "c49afa7a",
   "metadata": {},
   "outputs": [],
   "source": [
    "clean_scores(list_clean, numeracy_subtask_long)"
   ]
  },
  {
   "cell_type": "code",
   "execution_count": 81,
   "id": "30523d84",
   "metadata": {},
   "outputs": [],
   "source": [
    "numeracy_subtask_long[['subtask','item']] = numeracy_subtask_long['variable'].str.split('_',1,expand=True)"
   ]
  },
  {
   "cell_type": "code",
   "execution_count": 82,
   "id": "ad131d26",
   "metadata": {},
   "outputs": [],
   "source": [
    "numeracy_subtask_long['flag'] = numeracy_subtask_long['item'].str[:2]"
   ]
  },
  {
   "cell_type": "code",
   "execution_count": 83,
   "id": "8180fc97",
   "metadata": {},
   "outputs": [],
   "source": [
    "numeracy_subtask_long['timed_untimed'] = np.where(numeracy_subtask_long['flag']=='tt','tt','ut')"
   ]
  },
  {
   "cell_type": "code",
   "execution_count": 84,
   "id": "1695860c",
   "metadata": {},
   "outputs": [],
   "source": [
    "numeracy_subtask_long.to_csv(\"../Results/numeracy_subtask_scored.csv\")"
   ]
  },
  {
   "cell_type": "code",
   "execution_count": 85,
   "id": "210e06db",
   "metadata": {},
   "outputs": [],
   "source": [
    "literacy_subtask_long['Type'] = 'literacy'"
   ]
  },
  {
   "cell_type": "code",
   "execution_count": 86,
   "id": "56471927",
   "metadata": {},
   "outputs": [],
   "source": [
    "numeracy_subtask_long['Type'] = 'numeracy'"
   ]
  },
  {
   "cell_type": "code",
   "execution_count": 87,
   "id": "d0f1209d",
   "metadata": {},
   "outputs": [],
   "source": [
    "subtask_long = pd.concat([literacy_subtask_long,numeracy_subtask_long],join='inner')"
   ]
  },
  {
   "cell_type": "code",
   "execution_count": 88,
   "id": "2bbaafe0",
   "metadata": {},
   "outputs": [],
   "source": [
    "numeracy_subtask_long.to_csv(\"../Results/numeracy_subtask_scored.csv\")"
   ]
  },
  {
   "cell_type": "code",
   "execution_count": 89,
   "id": "ebc69c23",
   "metadata": {},
   "outputs": [],
   "source": [
    "variable_item_mapping = pd.read_csv(\"../Results/variable_item_mapping.csv\")"
   ]
  },
  {
   "cell_type": "code",
   "execution_count": 90,
   "id": "81efc6a2",
   "metadata": {},
   "outputs": [],
   "source": [
    "subtask_long = subtask_long.merge(variable_item_mapping[['Original_Variable','Group_Variable','Actual_Item']]\n",
    "                                                  ,left_on=\"variable\"\n",
    "                                                  ,right_on=\"Original_Variable\"\n",
    "                                                  ,how='left'\n",
    "                                                  ).drop(columns=['Original_Variable'])"
   ]
  },
  {
   "cell_type": "code",
   "execution_count": 91,
   "id": "12043ce2",
   "metadata": {},
   "outputs": [],
   "source": [
    "subtask_long.to_csv(\"../Results/subtask_scored_long.csv\")"
   ]
  },
  {
   "cell_type": "code",
   "execution_count": 92,
   "id": "1c9bacd9",
   "metadata": {},
   "outputs": [],
   "source": [
    "lst = literacy_subtask_long['variable'].unique()"
   ]
  },
  {
   "cell_type": "code",
   "execution_count": 93,
   "id": "7d3a534e",
   "metadata": {},
   "outputs": [],
   "source": [
    "dfr = pd.DataFrame(lst)"
   ]
  },
  {
   "cell_type": "code",
   "execution_count": 94,
   "id": "038cd15e",
   "metadata": {},
   "outputs": [],
   "source": [
    "dfr.to_csv(\"../Results/literacy_var.csv\")"
   ]
  },
  {
   "cell_type": "code",
   "execution_count": 96,
   "id": "fc7edf20",
   "metadata": {},
   "outputs": [
    {
     "data": {
      "text/plain": [
       "(2080260, 20)"
      ]
     },
     "execution_count": 96,
     "metadata": {},
     "output_type": "execute_result"
    }
   ],
   "source": [
    "subtask_long.shape"
   ]
  },
  {
   "cell_type": "code",
   "execution_count": 245,
   "id": "4b1b48e5",
   "metadata": {},
   "outputs": [],
   "source": [
    "subtask_long_lit = subtask_long[subtask_long[\"Type\"]=='literacy']"
   ]
  },
  {
   "cell_type": "code",
   "execution_count": 246,
   "id": "4fc6e04e",
   "metadata": {},
   "outputs": [
    {
     "data": {
      "text/html": [
       "<div>\n",
       "<style scoped>\n",
       "    .dataframe tbody tr th:only-of-type {\n",
       "        vertical-align: middle;\n",
       "    }\n",
       "\n",
       "    .dataframe tbody tr th {\n",
       "        vertical-align: top;\n",
       "    }\n",
       "\n",
       "    .dataframe thead th {\n",
       "        text-align: right;\n",
       "    }\n",
       "</style>\n",
       "<table border=\"1\" class=\"dataframe\">\n",
       "  <thead>\n",
       "    <tr style=\"text-align: right;\">\n",
       "      <th></th>\n",
       "      <th>id</th>\n",
       "      <th>tabletUserName</th>\n",
       "      <th>assessment_date</th>\n",
       "      <th>State</th>\n",
       "      <th>District</th>\n",
       "      <th>Block</th>\n",
       "      <th>School</th>\n",
       "      <th>UDISE</th>\n",
       "      <th>Name</th>\n",
       "      <th>Age</th>\n",
       "      <th>Gender</th>\n",
       "      <th>variable</th>\n",
       "      <th>value</th>\n",
       "      <th>subtask</th>\n",
       "      <th>item</th>\n",
       "      <th>flag</th>\n",
       "      <th>timed_untimed</th>\n",
       "      <th>Type</th>\n",
       "      <th>Group_Variable</th>\n",
       "      <th>Actual_Item</th>\n",
       "    </tr>\n",
       "  </thead>\n",
       "  <tbody>\n",
       "    <tr>\n",
       "      <th>0</th>\n",
       "      <td>0050c62f-02ba-4cc6-bb95-bf76e33e5069</td>\n",
       "      <td>Jeevan</td>\n",
       "      <td>2022-09-17</td>\n",
       "      <td>Madhya Pradesh</td>\n",
       "      <td>Shajapur</td>\n",
       "      <td>M. Barodiya</td>\n",
       "      <td>GIRLS P.S. PALSAWAD</td>\n",
       "      <td>23220413303</td>\n",
       "      <td>Bhumika</td>\n",
       "      <td>5.0</td>\n",
       "      <td>Female</td>\n",
       "      <td>literacy1_q1</td>\n",
       "      <td>1</td>\n",
       "      <td>literacy1</td>\n",
       "      <td>q1</td>\n",
       "      <td>q1</td>\n",
       "      <td>ut</td>\n",
       "      <td>literacy</td>\n",
       "      <td>listening_comprehension</td>\n",
       "      <td>1. इस कहानी में कौन-कौन से जानवर है?</td>\n",
       "    </tr>\n",
       "    <tr>\n",
       "      <th>1</th>\n",
       "      <td>00d4fdf3-5016-4037-a386-148bf838ff90</td>\n",
       "      <td>Kajal</td>\n",
       "      <td>2022-09-23</td>\n",
       "      <td>Madhya Pradesh</td>\n",
       "      <td>Vidisha</td>\n",
       "      <td>Gyaraspur</td>\n",
       "      <td>PS NIPANIYA</td>\n",
       "      <td>23310211501</td>\n",
       "      <td>pavan kushwah</td>\n",
       "      <td>6.0</td>\n",
       "      <td>Male</td>\n",
       "      <td>literacy1_q1</td>\n",
       "      <td>1</td>\n",
       "      <td>literacy1</td>\n",
       "      <td>q1</td>\n",
       "      <td>q1</td>\n",
       "      <td>ut</td>\n",
       "      <td>literacy</td>\n",
       "      <td>listening_comprehension</td>\n",
       "      <td>1. इस कहानी में कौन-कौन से जानवर है?</td>\n",
       "    </tr>\n",
       "    <tr>\n",
       "      <th>2</th>\n",
       "      <td>010fada9-996a-49c2-a8af-bdb6c5c688a3</td>\n",
       "      <td>Rahnuma</td>\n",
       "      <td>2022-09-16</td>\n",
       "      <td>Madhya Pradesh</td>\n",
       "      <td>Shajapur</td>\n",
       "      <td>Shajapur</td>\n",
       "      <td>P.S. RATANPURA</td>\n",
       "      <td>23220603401</td>\n",
       "      <td>lakshmi gurjar</td>\n",
       "      <td>5.0</td>\n",
       "      <td>Female</td>\n",
       "      <td>literacy1_q1</td>\n",
       "      <td>0</td>\n",
       "      <td>literacy1</td>\n",
       "      <td>q1</td>\n",
       "      <td>q1</td>\n",
       "      <td>ut</td>\n",
       "      <td>literacy</td>\n",
       "      <td>listening_comprehension</td>\n",
       "      <td>1. इस कहानी में कौन-कौन से जानवर है?</td>\n",
       "    </tr>\n",
       "    <tr>\n",
       "      <th>3</th>\n",
       "      <td>015e4b93-016a-457c-8987-65a7a048b051</td>\n",
       "      <td>Vaibhav</td>\n",
       "      <td>2022-09-23</td>\n",
       "      <td>Madhya Pradesh</td>\n",
       "      <td>Shajapur</td>\n",
       "      <td>Shajapur</td>\n",
       "      <td>BOYS M.S. MAHUPURA SHAJAPUR</td>\n",
       "      <td>23220605849</td>\n",
       "      <td>radhika rodu</td>\n",
       "      <td>6.0</td>\n",
       "      <td>Female</td>\n",
       "      <td>literacy1_q1</td>\n",
       "      <td>0</td>\n",
       "      <td>literacy1</td>\n",
       "      <td>q1</td>\n",
       "      <td>q1</td>\n",
       "      <td>ut</td>\n",
       "      <td>literacy</td>\n",
       "      <td>listening_comprehension</td>\n",
       "      <td>1. इस कहानी में कौन-कौन से जानवर है?</td>\n",
       "    </tr>\n",
       "    <tr>\n",
       "      <th>4</th>\n",
       "      <td>0170015d-21f2-4342-a66e-bd9ad6f49162</td>\n",
       "      <td>Nanda</td>\n",
       "      <td>2022-09-16</td>\n",
       "      <td>Madhya Pradesh</td>\n",
       "      <td>Shajapur</td>\n",
       "      <td>Shajapur</td>\n",
       "      <td>NEW M.S. DILLOD</td>\n",
       "      <td>23220619202</td>\n",
       "      <td>Subham Ramesh</td>\n",
       "      <td>6.0</td>\n",
       "      <td>Male</td>\n",
       "      <td>literacy1_q1</td>\n",
       "      <td>0</td>\n",
       "      <td>literacy1</td>\n",
       "      <td>q1</td>\n",
       "      <td>q1</td>\n",
       "      <td>ut</td>\n",
       "      <td>literacy</td>\n",
       "      <td>listening_comprehension</td>\n",
       "      <td>1. इस कहानी में कौन-कौन से जानवर है?</td>\n",
       "    </tr>\n",
       "  </tbody>\n",
       "</table>\n",
       "</div>"
      ],
      "text/plain": [
       "                                     id tabletUserName assessment_date  \\\n",
       "0  0050c62f-02ba-4cc6-bb95-bf76e33e5069         Jeevan      2022-09-17   \n",
       "1  00d4fdf3-5016-4037-a386-148bf838ff90          Kajal      2022-09-23   \n",
       "2  010fada9-996a-49c2-a8af-bdb6c5c688a3        Rahnuma      2022-09-16   \n",
       "3  015e4b93-016a-457c-8987-65a7a048b051        Vaibhav      2022-09-23   \n",
       "4  0170015d-21f2-4342-a66e-bd9ad6f49162          Nanda      2022-09-16   \n",
       "\n",
       "            State  District        Block                       School  \\\n",
       "0  Madhya Pradesh  Shajapur  M. Barodiya          GIRLS P.S. PALSAWAD   \n",
       "1  Madhya Pradesh   Vidisha    Gyaraspur                  PS NIPANIYA   \n",
       "2  Madhya Pradesh  Shajapur     Shajapur               P.S. RATANPURA   \n",
       "3  Madhya Pradesh  Shajapur     Shajapur  BOYS M.S. MAHUPURA SHAJAPUR   \n",
       "4  Madhya Pradesh  Shajapur     Shajapur              NEW M.S. DILLOD   \n",
       "\n",
       "         UDISE            Name  Age  Gender      variable  value    subtask  \\\n",
       "0  23220413303         Bhumika  5.0  Female  literacy1_q1      1  literacy1   \n",
       "1  23310211501   pavan kushwah  6.0    Male  literacy1_q1      1  literacy1   \n",
       "2  23220603401  lakshmi gurjar  5.0  Female  literacy1_q1      0  literacy1   \n",
       "3  23220605849    radhika rodu  6.0  Female  literacy1_q1      0  literacy1   \n",
       "4  23220619202   Subham Ramesh  6.0    Male  literacy1_q1      0  literacy1   \n",
       "\n",
       "  item flag timed_untimed      Type           Group_Variable  \\\n",
       "0   q1   q1            ut  literacy  listening_comprehension   \n",
       "1   q1   q1            ut  literacy  listening_comprehension   \n",
       "2   q1   q1            ut  literacy  listening_comprehension   \n",
       "3   q1   q1            ut  literacy  listening_comprehension   \n",
       "4   q1   q1            ut  literacy  listening_comprehension   \n",
       "\n",
       "                             Actual_Item  \n",
       "0   1. इस कहानी में कौन-कौन से जानवर है?  \n",
       "1   1. इस कहानी में कौन-कौन से जानवर है?  \n",
       "2   1. इस कहानी में कौन-कौन से जानवर है?  \n",
       "3   1. इस कहानी में कौन-कौन से जानवर है?  \n",
       "4   1. इस कहानी में कौन-कौन से जानवर है?  "
      ]
     },
     "execution_count": 246,
     "metadata": {},
     "output_type": "execute_result"
    }
   ],
   "source": [
    "subtask_long_lit.head()"
   ]
  },
  {
   "cell_type": "code",
   "execution_count": 244,
   "id": "a696a770",
   "metadata": {},
   "outputs": [
    {
     "ename": "KeyError",
     "evalue": "\"['cohort'] not in index\"",
     "output_type": "error",
     "traceback": [
      "\u001b[0;31m---------------------------------------------------------------------------\u001b[0m",
      "\u001b[0;31mKeyError\u001b[0m                                  Traceback (most recent call last)",
      "Input \u001b[0;32mIn [244]\u001b[0m, in \u001b[0;36m<cell line: 1>\u001b[0;34m()\u001b[0m\n\u001b[0;32m----> 1\u001b[0m subtask_wide \u001b[38;5;241m=\u001b[39m pd\u001b[38;5;241m.\u001b[39mpivot(\u001b[43msubtask_long_lit\u001b[49m\u001b[43m[\u001b[49m\u001b[43m[\u001b[49m\u001b[38;5;124;43m'\u001b[39;49m\u001b[38;5;124;43mid\u001b[39;49m\u001b[38;5;124;43m'\u001b[39;49m\u001b[43m,\u001b[49m\u001b[38;5;124;43m'\u001b[39;49m\u001b[38;5;124;43mName\u001b[39;49m\u001b[38;5;124;43m'\u001b[39;49m\u001b[43m,\u001b[49m\u001b[38;5;124;43m'\u001b[39;49m\u001b[38;5;124;43mUDISE\u001b[39;49m\u001b[38;5;124;43m'\u001b[39;49m\u001b[43m,\u001b[49m\u001b[38;5;124;43m'\u001b[39;49m\u001b[38;5;124;43mcohort\u001b[39;49m\u001b[38;5;124;43m'\u001b[39;49m\u001b[43m,\u001b[49m\u001b[38;5;124;43m'\u001b[39;49m\u001b[38;5;124;43mvariable\u001b[39;49m\u001b[38;5;124;43m'\u001b[39;49m\u001b[43m,\u001b[49m\u001b[38;5;124;43m'\u001b[39;49m\u001b[38;5;124;43mvalue\u001b[39;49m\u001b[38;5;124;43m'\u001b[39;49m\u001b[43m]\u001b[49m\u001b[43m]\u001b[49m\n\u001b[1;32m      2\u001b[0m                         ,index\u001b[38;5;241m=\u001b[39m[\u001b[38;5;124m'\u001b[39m\u001b[38;5;124mid\u001b[39m\u001b[38;5;124m'\u001b[39m,\u001b[38;5;124m'\u001b[39m\u001b[38;5;124mName\u001b[39m\u001b[38;5;124m'\u001b[39m,\u001b[38;5;124m'\u001b[39m\u001b[38;5;124mUDISE\u001b[39m\u001b[38;5;124m'\u001b[39m,\u001b[38;5;124m'\u001b[39m\u001b[38;5;124mcohort\u001b[39m\u001b[38;5;124m'\u001b[39m]\n\u001b[1;32m      3\u001b[0m                         ,columns \u001b[38;5;241m=\u001b[39m \u001b[38;5;124m'\u001b[39m\u001b[38;5;124mvariable\u001b[39m\u001b[38;5;124m'\u001b[39m\n\u001b[1;32m      4\u001b[0m                         , values\u001b[38;5;241m=\u001b[39m \u001b[38;5;124m'\u001b[39m\u001b[38;5;124mvalue\u001b[39m\u001b[38;5;124m'\u001b[39m)\n",
      "File \u001b[0;32m/opt/anaconda3/lib/python3.9/site-packages/pandas/core/frame.py:3511\u001b[0m, in \u001b[0;36mDataFrame.__getitem__\u001b[0;34m(self, key)\u001b[0m\n\u001b[1;32m   3509\u001b[0m     \u001b[38;5;28;01mif\u001b[39;00m is_iterator(key):\n\u001b[1;32m   3510\u001b[0m         key \u001b[38;5;241m=\u001b[39m \u001b[38;5;28mlist\u001b[39m(key)\n\u001b[0;32m-> 3511\u001b[0m     indexer \u001b[38;5;241m=\u001b[39m \u001b[38;5;28;43mself\u001b[39;49m\u001b[38;5;241;43m.\u001b[39;49m\u001b[43mcolumns\u001b[49m\u001b[38;5;241;43m.\u001b[39;49m\u001b[43m_get_indexer_strict\u001b[49m\u001b[43m(\u001b[49m\u001b[43mkey\u001b[49m\u001b[43m,\u001b[49m\u001b[43m \u001b[49m\u001b[38;5;124;43m\"\u001b[39;49m\u001b[38;5;124;43mcolumns\u001b[39;49m\u001b[38;5;124;43m\"\u001b[39;49m\u001b[43m)\u001b[49m[\u001b[38;5;241m1\u001b[39m]\n\u001b[1;32m   3513\u001b[0m \u001b[38;5;66;03m# take() does not accept boolean indexers\u001b[39;00m\n\u001b[1;32m   3514\u001b[0m \u001b[38;5;28;01mif\u001b[39;00m \u001b[38;5;28mgetattr\u001b[39m(indexer, \u001b[38;5;124m\"\u001b[39m\u001b[38;5;124mdtype\u001b[39m\u001b[38;5;124m\"\u001b[39m, \u001b[38;5;28;01mNone\u001b[39;00m) \u001b[38;5;241m==\u001b[39m \u001b[38;5;28mbool\u001b[39m:\n",
      "File \u001b[0;32m/opt/anaconda3/lib/python3.9/site-packages/pandas/core/indexes/base.py:5782\u001b[0m, in \u001b[0;36mIndex._get_indexer_strict\u001b[0;34m(self, key, axis_name)\u001b[0m\n\u001b[1;32m   5779\u001b[0m \u001b[38;5;28;01melse\u001b[39;00m:\n\u001b[1;32m   5780\u001b[0m     keyarr, indexer, new_indexer \u001b[38;5;241m=\u001b[39m \u001b[38;5;28mself\u001b[39m\u001b[38;5;241m.\u001b[39m_reindex_non_unique(keyarr)\n\u001b[0;32m-> 5782\u001b[0m \u001b[38;5;28;43mself\u001b[39;49m\u001b[38;5;241;43m.\u001b[39;49m\u001b[43m_raise_if_missing\u001b[49m\u001b[43m(\u001b[49m\u001b[43mkeyarr\u001b[49m\u001b[43m,\u001b[49m\u001b[43m \u001b[49m\u001b[43mindexer\u001b[49m\u001b[43m,\u001b[49m\u001b[43m \u001b[49m\u001b[43maxis_name\u001b[49m\u001b[43m)\u001b[49m\n\u001b[1;32m   5784\u001b[0m keyarr \u001b[38;5;241m=\u001b[39m \u001b[38;5;28mself\u001b[39m\u001b[38;5;241m.\u001b[39mtake(indexer)\n\u001b[1;32m   5785\u001b[0m \u001b[38;5;28;01mif\u001b[39;00m \u001b[38;5;28misinstance\u001b[39m(key, Index):\n\u001b[1;32m   5786\u001b[0m     \u001b[38;5;66;03m# GH 42790 - Preserve name from an Index\u001b[39;00m\n",
      "File \u001b[0;32m/opt/anaconda3/lib/python3.9/site-packages/pandas/core/indexes/base.py:5845\u001b[0m, in \u001b[0;36mIndex._raise_if_missing\u001b[0;34m(self, key, indexer, axis_name)\u001b[0m\n\u001b[1;32m   5842\u001b[0m     \u001b[38;5;28;01mraise\u001b[39;00m \u001b[38;5;167;01mKeyError\u001b[39;00m(\u001b[38;5;124mf\u001b[39m\u001b[38;5;124m\"\u001b[39m\u001b[38;5;124mNone of [\u001b[39m\u001b[38;5;132;01m{\u001b[39;00mkey\u001b[38;5;132;01m}\u001b[39;00m\u001b[38;5;124m] are in the [\u001b[39m\u001b[38;5;132;01m{\u001b[39;00maxis_name\u001b[38;5;132;01m}\u001b[39;00m\u001b[38;5;124m]\u001b[39m\u001b[38;5;124m\"\u001b[39m)\n\u001b[1;32m   5844\u001b[0m not_found \u001b[38;5;241m=\u001b[39m \u001b[38;5;28mlist\u001b[39m(ensure_index(key)[missing_mask\u001b[38;5;241m.\u001b[39mnonzero()[\u001b[38;5;241m0\u001b[39m]]\u001b[38;5;241m.\u001b[39munique())\n\u001b[0;32m-> 5845\u001b[0m \u001b[38;5;28;01mraise\u001b[39;00m \u001b[38;5;167;01mKeyError\u001b[39;00m(\u001b[38;5;124mf\u001b[39m\u001b[38;5;124m\"\u001b[39m\u001b[38;5;132;01m{\u001b[39;00mnot_found\u001b[38;5;132;01m}\u001b[39;00m\u001b[38;5;124m not in index\u001b[39m\u001b[38;5;124m\"\u001b[39m)\n",
      "\u001b[0;31mKeyError\u001b[0m: \"['cohort'] not in index\""
     ]
    }
   ],
   "source": [
    "subtask_wide = pd.pivot(subtask_long_lit[['id','Name','UDISE','cohort','variable','value']]\n",
    "                        ,index=['id','Name','UDISE','cohort']\n",
    "                        ,columns = 'variable'\n",
    "                        , values= 'value')"
   ]
  },
  {
   "cell_type": "code",
   "execution_count": 243,
   "id": "b5740d4c",
   "metadata": {},
   "outputs": [],
   "source": [
    "subtask_wide.to_csv(\"../Results/subtask_wide_lit.csv\")"
   ]
  },
  {
   "cell_type": "code",
   "execution_count": 22,
   "id": "82a245f7",
   "metadata": {},
   "outputs": [
    {
     "name": "stderr",
     "output_type": "stream",
     "text": [
      "/var/folders/0c/r0hw428532s7bttp9my0ym_00000gn/T/ipykernel_70223/2759883781.py:1: DtypeWarning: Columns (1,19,20) have mixed types. Specify dtype option on import or set low_memory=False.\n",
      "  subtask_long = pd.read_csv(\"../Results/subtask_scored_long.csv\")\n"
     ]
    }
   ],
   "source": [
    "subtask_long = pd.read_csv(\"../Results/subtask_scored_long.csv\")"
   ]
  },
  {
   "cell_type": "code",
   "execution_count": 23,
   "id": "8245eff3",
   "metadata": {},
   "outputs": [],
   "source": [
    "subtask_long_num = subtask_long[subtask_long[\"Type\"]=='numeracy']"
   ]
  },
  {
   "cell_type": "code",
   "execution_count": 25,
   "id": "34b4b532",
   "metadata": {},
   "outputs": [
    {
     "data": {
      "text/html": [
       "<div>\n",
       "<style scoped>\n",
       "    .dataframe tbody tr th:only-of-type {\n",
       "        vertical-align: middle;\n",
       "    }\n",
       "\n",
       "    .dataframe tbody tr th {\n",
       "        vertical-align: top;\n",
       "    }\n",
       "\n",
       "    .dataframe thead th {\n",
       "        text-align: right;\n",
       "    }\n",
       "</style>\n",
       "<table border=\"1\" class=\"dataframe\">\n",
       "  <thead>\n",
       "    <tr style=\"text-align: right;\">\n",
       "      <th></th>\n",
       "      <th>Unnamed: 0</th>\n",
       "      <th>id</th>\n",
       "      <th>tabletUserName</th>\n",
       "      <th>assessment_date</th>\n",
       "      <th>State</th>\n",
       "      <th>District</th>\n",
       "      <th>Block</th>\n",
       "      <th>School</th>\n",
       "      <th>UDISE</th>\n",
       "      <th>Name</th>\n",
       "      <th>Age</th>\n",
       "      <th>Gender</th>\n",
       "      <th>variable</th>\n",
       "      <th>value</th>\n",
       "      <th>subtask</th>\n",
       "      <th>item</th>\n",
       "      <th>flag</th>\n",
       "      <th>timed_untimed</th>\n",
       "      <th>Type</th>\n",
       "      <th>Group_Variable</th>\n",
       "      <th>Actual_Item</th>\n",
       "    </tr>\n",
       "  </thead>\n",
       "  <tbody>\n",
       "    <tr>\n",
       "      <th>1572500</th>\n",
       "      <td>1572500</td>\n",
       "      <td>0</td>\n",
       "      <td>Jeevan</td>\n",
       "      <td>2022-09-17</td>\n",
       "      <td>Madhya Pradesh</td>\n",
       "      <td>Shajapur</td>\n",
       "      <td>M. Barodiya</td>\n",
       "      <td>GIRLS P.S. PALSAWAD</td>\n",
       "      <td>23220413303</td>\n",
       "      <td>Bhumika</td>\n",
       "      <td>5.0</td>\n",
       "      <td>Female</td>\n",
       "      <td>numeracy1_tt_grid_1</td>\n",
       "      <td>1</td>\n",
       "      <td>numeracy1</td>\n",
       "      <td>tt_grid_1</td>\n",
       "      <td>tt</td>\n",
       "      <td>tt</td>\n",
       "      <td>numeracy</td>\n",
       "      <td>NaN</td>\n",
       "      <td>NaN</td>\n",
       "    </tr>\n",
       "    <tr>\n",
       "      <th>1572501</th>\n",
       "      <td>1572501</td>\n",
       "      <td>1</td>\n",
       "      <td>Kajal</td>\n",
       "      <td>2022-09-23</td>\n",
       "      <td>Madhya Pradesh</td>\n",
       "      <td>Vidisha</td>\n",
       "      <td>Gyaraspur</td>\n",
       "      <td>PS NIPANIYA</td>\n",
       "      <td>23310211501</td>\n",
       "      <td>pavan kushwah</td>\n",
       "      <td>6.0</td>\n",
       "      <td>Male</td>\n",
       "      <td>numeracy1_tt_grid_1</td>\n",
       "      <td>1</td>\n",
       "      <td>numeracy1</td>\n",
       "      <td>tt_grid_1</td>\n",
       "      <td>tt</td>\n",
       "      <td>tt</td>\n",
       "      <td>numeracy</td>\n",
       "      <td>NaN</td>\n",
       "      <td>NaN</td>\n",
       "    </tr>\n",
       "    <tr>\n",
       "      <th>1572502</th>\n",
       "      <td>1572502</td>\n",
       "      <td>2</td>\n",
       "      <td>Rahnuma</td>\n",
       "      <td>2022-09-16</td>\n",
       "      <td>Madhya Pradesh</td>\n",
       "      <td>Shajapur</td>\n",
       "      <td>Shajapur</td>\n",
       "      <td>P.S. RATANPURA</td>\n",
       "      <td>23220603401</td>\n",
       "      <td>lakshmi gurjar</td>\n",
       "      <td>5.0</td>\n",
       "      <td>Female</td>\n",
       "      <td>numeracy1_tt_grid_1</td>\n",
       "      <td>1</td>\n",
       "      <td>numeracy1</td>\n",
       "      <td>tt_grid_1</td>\n",
       "      <td>tt</td>\n",
       "      <td>tt</td>\n",
       "      <td>numeracy</td>\n",
       "      <td>NaN</td>\n",
       "      <td>NaN</td>\n",
       "    </tr>\n",
       "    <tr>\n",
       "      <th>1572503</th>\n",
       "      <td>1572503</td>\n",
       "      <td>3</td>\n",
       "      <td>Vaibhav</td>\n",
       "      <td>2022-09-23</td>\n",
       "      <td>Madhya Pradesh</td>\n",
       "      <td>Shajapur</td>\n",
       "      <td>Shajapur</td>\n",
       "      <td>BOYS M.S. MAHUPURA SHAJAPUR</td>\n",
       "      <td>23220605849</td>\n",
       "      <td>radhika rodu</td>\n",
       "      <td>6.0</td>\n",
       "      <td>Female</td>\n",
       "      <td>numeracy1_tt_grid_1</td>\n",
       "      <td>1</td>\n",
       "      <td>numeracy1</td>\n",
       "      <td>tt_grid_1</td>\n",
       "      <td>tt</td>\n",
       "      <td>tt</td>\n",
       "      <td>numeracy</td>\n",
       "      <td>NaN</td>\n",
       "      <td>NaN</td>\n",
       "    </tr>\n",
       "    <tr>\n",
       "      <th>1572504</th>\n",
       "      <td>1572504</td>\n",
       "      <td>4</td>\n",
       "      <td>Nanda</td>\n",
       "      <td>2022-09-16</td>\n",
       "      <td>Madhya Pradesh</td>\n",
       "      <td>Shajapur</td>\n",
       "      <td>Shajapur</td>\n",
       "      <td>NEW M.S. DILLOD</td>\n",
       "      <td>23220619202</td>\n",
       "      <td>Subham Ramesh</td>\n",
       "      <td>6.0</td>\n",
       "      <td>Male</td>\n",
       "      <td>numeracy1_tt_grid_1</td>\n",
       "      <td>1</td>\n",
       "      <td>numeracy1</td>\n",
       "      <td>tt_grid_1</td>\n",
       "      <td>tt</td>\n",
       "      <td>tt</td>\n",
       "      <td>numeracy</td>\n",
       "      <td>NaN</td>\n",
       "      <td>NaN</td>\n",
       "    </tr>\n",
       "  </tbody>\n",
       "</table>\n",
       "</div>"
      ],
      "text/plain": [
       "         Unnamed: 0 id tabletUserName assessment_date           State  \\\n",
       "1572500     1572500  0         Jeevan      2022-09-17  Madhya Pradesh   \n",
       "1572501     1572501  1          Kajal      2022-09-23  Madhya Pradesh   \n",
       "1572502     1572502  2        Rahnuma      2022-09-16  Madhya Pradesh   \n",
       "1572503     1572503  3        Vaibhav      2022-09-23  Madhya Pradesh   \n",
       "1572504     1572504  4          Nanda      2022-09-16  Madhya Pradesh   \n",
       "\n",
       "         District        Block                       School        UDISE  \\\n",
       "1572500  Shajapur  M. Barodiya          GIRLS P.S. PALSAWAD  23220413303   \n",
       "1572501   Vidisha    Gyaraspur                  PS NIPANIYA  23310211501   \n",
       "1572502  Shajapur     Shajapur               P.S. RATANPURA  23220603401   \n",
       "1572503  Shajapur     Shajapur  BOYS M.S. MAHUPURA SHAJAPUR  23220605849   \n",
       "1572504  Shajapur     Shajapur              NEW M.S. DILLOD  23220619202   \n",
       "\n",
       "                   Name  Age  Gender             variable  value    subtask  \\\n",
       "1572500         Bhumika  5.0  Female  numeracy1_tt_grid_1      1  numeracy1   \n",
       "1572501   pavan kushwah  6.0    Male  numeracy1_tt_grid_1      1  numeracy1   \n",
       "1572502  lakshmi gurjar  5.0  Female  numeracy1_tt_grid_1      1  numeracy1   \n",
       "1572503    radhika rodu  6.0  Female  numeracy1_tt_grid_1      1  numeracy1   \n",
       "1572504   Subham Ramesh  6.0    Male  numeracy1_tt_grid_1      1  numeracy1   \n",
       "\n",
       "              item flag timed_untimed      Type Group_Variable Actual_Item  \n",
       "1572500  tt_grid_1   tt            tt  numeracy            NaN         NaN  \n",
       "1572501  tt_grid_1   tt            tt  numeracy            NaN         NaN  \n",
       "1572502  tt_grid_1   tt            tt  numeracy            NaN         NaN  \n",
       "1572503  tt_grid_1   tt            tt  numeracy            NaN         NaN  \n",
       "1572504  tt_grid_1   tt            tt  numeracy            NaN         NaN  "
      ]
     },
     "execution_count": 25,
     "metadata": {},
     "output_type": "execute_result"
    }
   ],
   "source": [
    "subtask_long_num.head()"
   ]
  },
  {
   "cell_type": "code",
   "execution_count": 26,
   "id": "00300bb9",
   "metadata": {},
   "outputs": [],
   "source": [
    "subtask_wide_num = pd.pivot(subtask_long_num[['id','Name','UDISE','variable','value']]\n",
    "                        ,index=['id','Name','UDISE',]\n",
    "                        ,columns = 'variable'\n",
    "                        , values= 'value')"
   ]
  },
  {
   "cell_type": "code",
   "execution_count": 27,
   "id": "00560401",
   "metadata": {},
   "outputs": [],
   "source": [
    "subtask_wide_num.to_csv(\"../Results/subtask_wide_num.csv\")"
   ]
  },
  {
   "cell_type": "code",
   "execution_count": null,
   "id": "55ba7bfe",
   "metadata": {
    "scrolled": true
   },
   "outputs": [],
   "source": [
    "%%R \n",
    "\n",
    "install.packages(\"ltm\")\n",
    "\n",
    "# require(dplyr)\n",
    "# require(Hmisc)\n",
    "# require(sqldf)\n",
    "# require(ltm)\n",
    "# require(mirt)\n",
    "# require(irtoys)\n",
    "# require(readr)\n",
    "# require(tidyverse)\n",
    "\n",
    "# IRTmodel_lit = ltm(subtask_wide~z1,IRT.param=TRUE)\n",
    "# IRTcoef = coef(IRTmodel_lit)\n",
    "# irtcf = as.data.frame(IRTcoef)\n",
    "# irtcf = rownames_to_column(irtcf, var = \"Item\")\n",
    "# factor_scores = factor.scores(IRTmodel_lit)\n",
    "# person_fit = person.fit(IRTmodel_lit)\n",
    "# item_fit = item.fit(IRTmodel_lit)\n",
    "\n",
    "# import rpy2.robjects as ro\n",
    "# from rpy2.robjects.packages import importr\n",
    "# from rpy2.robjects import pandas2ri\n",
    "# from rpy2.robjects.conversion import localconverter\n",
    "# with localconverter(ro.default_converter + pandas2ri.converter):\n",
    "#   dt = ro.conversion.rpy2py(irtcf)"
   ]
  },
  {
   "cell_type": "code",
   "execution_count": 227,
   "id": "afdb9b8c",
   "metadata": {},
   "outputs": [
    {
     "ename": "NameError",
     "evalue": "name 'irtcf' is not defined",
     "output_type": "error",
     "traceback": [
      "\u001b[0;31m---------------------------------------------------------------------------\u001b[0m",
      "\u001b[0;31mNameError\u001b[0m                                 Traceback (most recent call last)",
      "Input \u001b[0;32mIn [227]\u001b[0m, in \u001b[0;36m<cell line: 5>\u001b[0;34m()\u001b[0m\n\u001b[1;32m      4\u001b[0m \u001b[38;5;28;01mfrom\u001b[39;00m \u001b[38;5;21;01mrpy2\u001b[39;00m\u001b[38;5;21;01m.\u001b[39;00m\u001b[38;5;21;01mrobjects\u001b[39;00m\u001b[38;5;21;01m.\u001b[39;00m\u001b[38;5;21;01mconversion\u001b[39;00m \u001b[38;5;28;01mimport\u001b[39;00m localconverter\n\u001b[1;32m      5\u001b[0m \u001b[38;5;28;01mwith\u001b[39;00m localconverter(ro\u001b[38;5;241m.\u001b[39mdefault_converter \u001b[38;5;241m+\u001b[39m pandas2ri\u001b[38;5;241m.\u001b[39mconverter):\n\u001b[0;32m----> 6\u001b[0m   dt \u001b[38;5;241m=\u001b[39m ro\u001b[38;5;241m.\u001b[39mconversion\u001b[38;5;241m.\u001b[39mrpy2py(\u001b[43mirtcf\u001b[49m)\n",
      "\u001b[0;31mNameError\u001b[0m: name 'irtcf' is not defined"
     ]
    }
   ],
   "source": [
    "import rpy2.robjects as ro\n",
    "from rpy2.robjects.packages import importr\n",
    "from rpy2.robjects import pandas2ri\n",
    "from rpy2.robjects.conversion import localconverter\n",
    "with localconverter(ro.default_converter + pandas2ri.converter):\n",
    "  dt = ro.conversion.rpy2py(irtcf)"
   ]
  },
  {
   "cell_type": "code",
   "execution_count": null,
   "id": "adfa6eb8",
   "metadata": {},
   "outputs": [],
   "source": []
  },
  {
   "cell_type": "code",
   "execution_count": 14,
   "id": "813c9a35",
   "metadata": {},
   "outputs": [],
   "source": [
    "# Check for gender distribution\n",
    "# literacy_scored.groupby(['State','Gender'])['id'].count()"
   ]
  },
  {
   "cell_type": "code",
   "execution_count": 15,
   "id": "127c6d5a",
   "metadata": {},
   "outputs": [],
   "source": [
    "# # check for student responses per school greater than 12\n",
    "# chk1 = pd.DataFrame(literacy_scored.groupby(['UDISE'])['id'].count())\n",
    "# chk1['UDISE'] = chk1.index\n",
    "# chk1 = pd.DataFrame(chk1.groupby(['id'])['UDISE'].count())\n",
    "# chk2 = pd.DataFrame(numeracy_scored.groupby(['UDISE'])['id'].count())\n",
    "# chk2['UDISE'] = chk2.index\n",
    "# chk2 = pd.DataFrame(chk2.groupby(['id'])['UDISE'].count())\n",
    "# chk1.merge(chk2,how='left',on='id')"
   ]
  },
  {
   "cell_type": "code",
   "execution_count": 16,
   "id": "f1ee6b24",
   "metadata": {},
   "outputs": [],
   "source": [
    "# chk = pd.DataFrame(literacy_scored.groupby(['UDISE','Name','Age','Gender'])['id'].count())\n",
    "# chk['UDISE'] = chk.index\n",
    "# chk.groupby(['id'])['UDISE'].count()"
   ]
  },
  {
   "cell_type": "code",
   "execution_count": 17,
   "id": "8745b855",
   "metadata": {},
   "outputs": [],
   "source": [
    "# literacy_scored[literacy_scored['literacy9b_total']>7].groupby(['State','District'])['Name'].count()"
   ]
  }
 ],
 "metadata": {
  "kernelspec": {
   "display_name": "Python 3 (ipykernel)",
   "language": "python",
   "name": "python3"
  },
  "language_info": {
   "codemirror_mode": {
    "name": "ipython",
    "version": 3
   },
   "file_extension": ".py",
   "mimetype": "text/x-python",
   "name": "python",
   "nbconvert_exporter": "python",
   "pygments_lexer": "ipython3",
   "version": "3.9.12"
  }
 },
 "nbformat": 4,
 "nbformat_minor": 5
}
