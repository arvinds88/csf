{
 "cells": [
  {
   "cell_type": "code",
   "execution_count": 1,
   "id": "21d30864",
   "metadata": {},
   "outputs": [],
   "source": [
    "import pandas as pd\n",
    "import numpy as np\n",
    "from datetime import datetime, timedelta\n",
    "import regex as re\n",
    "import os\n",
    "import seaborn as sns\n",
    "from openpyxl import load_workbook\n",
    "pd.set_option('display.max_columns', None)\n",
    "pd.set_option('display.max_rows', None)\n",
    "%reload_ext rpy2.ipython"
   ]
  },
  {
   "cell_type": "code",
   "execution_count": 2,
   "id": "05b10dc4",
   "metadata": {},
   "outputs": [],
   "source": [
    "os.chdir('/Users/arvind/Documents/Work/Zoho WorkDrive (Educational Initiatives Private Limited)/My Folders/Projects/CSF/Analysis/Code/DQA/')"
   ]
  },
  {
   "cell_type": "code",
   "execution_count": 44,
   "id": "9e855630",
   "metadata": {},
   "outputs": [],
   "source": [
    "def clean_scores(col_list, df):\n",
    "    for col in col_list:\n",
    "        df.loc[:, col].fillna(0, inplace=True)\n",
    "        df.loc[:, col].replace(88,0,inplace=True)\n",
    "        df.loc[:, col].replace('88',0,inplace=True)\n",
    "        df.loc[:, col].replace(999,0,inplace=True)\n",
    "        df.loc[:, col].replace('999',0,inplace=True)\n",
    "        df.loc[:, col].replace('UNDEFINED', 0, inplace=True)\n",
    "        df.loc[:, col].replace('SKIPPED', 0, inplace=True)\n",
    "        df.loc[:, col].replace('.', 0, inplace=True)\n",
    "        df.loc[:, col] = df.loc[:, col].astype('int64')\n",
    "    return"
   ]
  },
  {
   "cell_type": "markdown",
   "id": "50ce87b4",
   "metadata": {},
   "source": [
    "<h1>\n",
    "    Import raw data files\n",
    "</h1>"
   ]
  },
  {
   "cell_type": "code",
   "execution_count": 66,
   "id": "98213e9a",
   "metadata": {},
   "outputs": [],
   "source": [
    "#Importing all scored files\n",
    "mp_literacy_scored = pd.read_excel(\"./2022_11_08_mp_literacy_total_scores.xlsx\", index_col=[0])\n",
    "mp_numeracy_scored = pd.read_excel(\"./2022_11_08_mp_numeracy_total_scores.xlsx\", index_col=[0])\n",
    "up_literacy_scored = pd.read_excel(\"./2022_11_08_up_literacy_total_scores.xlsx\", index_col=[0])\n",
    "up_numeracy_scored = pd.read_excel(\"./2022_11_08_up_numeracy_total_scores.xlsx\", index_col=[0])"
   ]
  },
  {
   "cell_type": "code",
   "execution_count": 3,
   "id": "60563698",
   "metadata": {},
   "outputs": [],
   "source": [
    "up_literacy_raw = pd.read_excel(\"./2022_11_08_up_raw_literacy_cleaned.xlsx\", index_col=[0])\n",
    "up_numeracy_raw = pd.read_excel(\"./2022_11_08_up_raw_numeracy_cleaned.xlsx\", index_col=[0])\n",
    "mp_literacy_raw = pd.read_excel(\"./2022_11_08_mp_raw_literacy_cleaned.xlsx\", index_col=[0])\n",
    "mp_numeracy_raw = pd.read_excel(\"./2022_11_08_mp_raw_numeracy_cleaned.xlsx\", index_col=[0])"
   ]
  },
  {
   "cell_type": "code",
   "execution_count": 5,
   "id": "f3d05774",
   "metadata": {},
   "outputs": [
    {
     "data": {
      "text/plain": [
       "True"
      ]
     },
     "execution_count": 5,
     "metadata": {},
     "output_type": "execute_result"
    }
   ],
   "source": [
    "# all(col in up_literacy_scored.columns for col in mp_literacy_scored.columns)\n",
    "# all(col in up_numeracy_scored.columns for col in mp_numeracy_scored.columns)\n",
    "all(col in up_literacy_raw.columns for col in mp_literacy_raw.columns)\n",
    "all(col in up_numeracy_raw.columns for col in mp_numeracy_raw.columns)"
   ]
  },
  {
   "cell_type": "code",
   "execution_count": 54,
   "id": "487ca779",
   "metadata": {},
   "outputs": [],
   "source": [
    "#Merging state files\n",
    "literacy_scored = pd.concat([mp_literacy_scored,up_literacy_scored],join='inner')\n",
    "numeracy_scored = pd.concat([mp_numeracy_scored,up_numeracy_scored],join='inner')"
   ]
  },
  {
   "cell_type": "code",
   "execution_count": 56,
   "id": "c6e2143c",
   "metadata": {},
   "outputs": [],
   "source": [
    "literacy_scored['school_details.State_label'] = literacy_scored['school_details.State_label'].replace('Madhya_Pradesh','Madhya Pradesh')\n",
    "literacy_scored['school_details.State_label'] = literacy_scored['school_details.State_label'].replace('Uttar_Pradesh','Uttar Pradesh')\n",
    "numeracy_scored['school_details.State_label'] = numeracy_scored['school_details.State_label'].replace('Madhya_Pradesh','Madhya Pradesh')\n",
    "numeracy_scored['school_details.State_label'] = numeracy_scored['school_details.State_label'].replace('Uttar_Pradesh','Uttar Pradesh')                                                                                                    "
   ]
  },
  {
   "cell_type": "code",
   "execution_count": 57,
   "id": "960b409b",
   "metadata": {},
   "outputs": [],
   "source": [
    "#Output for Tableau Workbook\n",
    "literacy_scored.to_excel(\"../Results/literacy_scored.xlsx\")\n",
    "numeracy_scored.to_excel(\"../Results/numeracy_scored.xlsx\")"
   ]
  },
  {
   "cell_type": "code",
   "execution_count": null,
   "id": "9fe00588",
   "metadata": {},
   "outputs": [],
   "source": [
    "#renaming variables for ease and use in R\n",
    "literacy_scored = literacy_scored.rename(columns = {'school_details.State_label':'State',\n",
    "                                  'school_details.District_label':'District',\n",
    "                                  'school_details.Block_label':'Block',\n",
    "                                  'school_details.School_label':'School',\n",
    "                                  'school_details.UDISE_cd_label':'UDISE',\n",
    "                                  'SI_std_name':'Name',\n",
    "                                  'student_age':'Age',\n",
    "                                  'student_gender':'Gender'})\n",
    "numeracy_scored = numeracy_scored.rename(columns = {'school_details.State_label':'State',\n",
    "                                  'school_details.District_label':'District',\n",
    "                                  'school_details.Block_label':'Block',\n",
    "                                  'school_details.School_label':'School',\n",
    "                                  'school_details.UDISE_cd_label':'UDISE',\n",
    "                                  'SI_std_name':'Name',\n",
    "                                  'student_age':'Age',\n",
    "                                  'student_gender':'Gender'})"
   ]
  },
  {
   "cell_type": "code",
   "execution_count": null,
   "id": "c19c161a",
   "metadata": {
    "scrolled": true
   },
   "outputs": [],
   "source": [
    "literacy_scored.head()"
   ]
  },
  {
   "cell_type": "code",
   "execution_count": null,
   "id": "bd840468",
   "metadata": {},
   "outputs": [],
   "source": [
    "literacy_scored['id'] = literacy_scored.index\n",
    "numeracy_scored['id'] = numeracy_scored.index"
   ]
  },
  {
   "cell_type": "code",
   "execution_count": null,
   "id": "55ba7bfe",
   "metadata": {
    "scrolled": true
   },
   "outputs": [],
   "source": [
    "# %%R -i literacy_scored\n",
    "\n",
    "# require(dplyr)\n",
    "# require(Hmisc)\n",
    "# require(sqldf)\n",
    "# sqldf(\"select State, Gender, count(distinct id) as ct from literacy_scored group by State, Gender\")"
   ]
  },
  {
   "cell_type": "code",
   "execution_count": null,
   "id": "813c9a35",
   "metadata": {},
   "outputs": [],
   "source": [
    "# Check for gender distribution\n",
    "# literacy_scored.groupby(['State','Gender'])['id'].count()"
   ]
  },
  {
   "cell_type": "code",
   "execution_count": null,
   "id": "127c6d5a",
   "metadata": {},
   "outputs": [],
   "source": [
    "# # check for student responses per school greater than 12\n",
    "# chk1 = pd.DataFrame(literacy_scored.groupby(['UDISE'])['id'].count())\n",
    "# chk1['UDISE'] = chk1.index\n",
    "# chk1 = pd.DataFrame(chk1.groupby(['id'])['UDISE'].count())\n",
    "# chk2 = pd.DataFrame(numeracy_scored.groupby(['UDISE'])['id'].count())\n",
    "# chk2['UDISE'] = chk2.index\n",
    "# chk2 = pd.DataFrame(chk2.groupby(['id'])['UDISE'].count())\n",
    "# chk1.merge(chk2,how='left',on='id')"
   ]
  },
  {
   "cell_type": "code",
   "execution_count": null,
   "id": "f1ee6b24",
   "metadata": {},
   "outputs": [],
   "source": [
    "# chk = pd.DataFrame(literacy_scored.groupby(['UDISE','Name','Age','Gender'])['id'].count())\n",
    "# chk['UDISE'] = chk.index\n",
    "# chk.groupby(['id'])['UDISE'].count()"
   ]
  },
  {
   "cell_type": "code",
   "execution_count": null,
   "id": "8745b855",
   "metadata": {},
   "outputs": [],
   "source": [
    "# literacy_scored[literacy_scored['literacy9b_total']>7].groupby(['State','District'])['Name'].count()"
   ]
  },
  {
   "cell_type": "code",
   "execution_count": 78,
   "id": "fd0fe47b",
   "metadata": {},
   "outputs": [],
   "source": [
    "#Merging state files for item analysis\n",
    "literacy_raw = pd.concat([mp_literacy_raw,up_literacy_raw],join='inner')\n",
    "numeracy_raw = pd.concat([mp_numeracy_raw,up_numeracy_raw],join='inner')"
   ]
  },
  {
   "cell_type": "code",
   "execution_count": 96,
   "id": "69b16161",
   "metadata": {
    "scrolled": true
   },
   "outputs": [
    {
     "name": "stderr",
     "output_type": "stream",
     "text": [
      "/var/folders/0c/r0hw428532s7bttp9my0ym_00000gn/T/ipykernel_87614/13276588.py:2: PerformanceWarning: DataFrame is highly fragmented.  This is usually the result of calling `frame.insert` many times, which has poor performance.  Consider joining all columns at once using pd.concat(axis=1) instead. To get a de-fragmented frame, use `newframe = frame.copy()`\n",
      "  numeracy_raw['id']= list(numeracy_raw.index)\n"
     ]
    }
   ],
   "source": [
    "literacy_raw['id']= list(literacy_raw.index)\n",
    "numeracy_raw['id']= list(numeracy_raw.index)"
   ]
  },
  {
   "cell_type": "code",
   "execution_count": 141,
   "id": "d00d0c41",
   "metadata": {},
   "outputs": [],
   "source": [
    "main_var = [\n",
    " 'id',\n",
    " 'tabletUserName',\n",
    " 'assessment_date',\n",
    " 'school_details.State_label',\n",
    " 'school_details.District_label',\n",
    " 'school_details.Block_label',\n",
    " 'school_details.School_label',\n",
    " 'school_details.UDISE_cd_label',\n",
    " 'SI_std_name',\n",
    " 'student_age',\n",
    " 'student_gender']"
   ]
  },
  {
   "cell_type": "code",
   "execution_count": 142,
   "id": "cea95b82",
   "metadata": {},
   "outputs": [],
   "source": [
    "literacy_subtask_var = [col for col in literacy_raw.columns \n",
    "                if re.search(r'literacy1_q\\d$', col)\n",
    "                or re.search(r'literacy2_q\\d+$', col)\n",
    "                or re.search(r'literacy3_q+', col)\n",
    "                or re.search(r'literacy4_ut_grid_\\d*$', col)\n",
    "                or re.search(r'literacy4_tt_grid_\\d*$', col)\n",
    "                or re.search(r'literacy5_ut_grid_\\d*$', col)\n",
    "                or re.search(r'literacy5_tt_grid_\\d*$', col)\n",
    "                or re.search(r'literacy6_tt_grid_\\d*$', col)\n",
    "                or re.search(r'literacy7_tt_grid_\\d*$', col)\n",
    "                or re.search(r'literacy8_ut_grid_\\d*$', col)\n",
    "                or re.search(r'literacy8_ut_q\\d*$', col)\n",
    "                or re.search(r'literacy9a_ut_grid_\\d*$', col)\n",
    "                or re.search(r'literacy9b_ut_grid_\\d*$', col)  \n",
    "               ]"
   ]
  },
  {
   "cell_type": "code",
   "execution_count": 143,
   "id": "2faa1a6d",
   "metadata": {},
   "outputs": [],
   "source": [
    "numeracy_subtask_var = [col for col in numeracy_raw.columns\n",
    "                       if re.search(r'numeracy1_tt_grid_\\d*$', col)\n",
    "                       or re.search(r'numeracy2_ut_grid_\\d*$', col)\n",
    "                       or re.search(r'numeracy2_tt_grid_\\d*$', col)\n",
    "                       or re.search(r'numeracy3\\w*', col)\n",
    "                       or re.search(r'numeracy4_ut_q\\d*$', col)\n",
    "                       or re.search(r'numeracy5_ut_q\\d*$', col)\n",
    "                       or re.search(r'numeracy6_ut_q\\d*$', col)\n",
    "                       or re.search(r'numeracy7_ut_q\\d*$', col)\n",
    "                       or re.search(r'numeracy8_ut_q\\d*$', col)\n",
    "                       or re.search(r'numeracy9a_ut_grid_\\d$', col)\n",
    "                       or re.search(r'numeracy9b_ut_grid_\\d$', col)\n",
    "                       ]"
   ]
  },
  {
   "cell_type": "code",
   "execution_count": 144,
   "id": "fa06862b",
   "metadata": {},
   "outputs": [],
   "source": [
    "literacy_subtask_long = pd.melt(literacy_raw,id_vars = main_var,value_vars = literacy_subtask_var)"
   ]
  },
  {
   "cell_type": "code",
   "execution_count": 145,
   "id": "86addd5c",
   "metadata": {},
   "outputs": [],
   "source": [
    "list_clean = ['value']"
   ]
  },
  {
   "cell_type": "code",
   "execution_count": 146,
   "id": "1efc6de2",
   "metadata": {},
   "outputs": [],
   "source": [
    "clean_scores(list_clean, literacy_subtask_long)"
   ]
  },
  {
   "cell_type": "code",
   "execution_count": 147,
   "id": "7adee38b",
   "metadata": {},
   "outputs": [],
   "source": [
    "literacy_subtask_long[['subtask','item']] = literacy_subtask_long['variable'].str.split('_',1,expand=True)"
   ]
  },
  {
   "cell_type": "code",
   "execution_count": 148,
   "id": "a29d3c2d",
   "metadata": {},
   "outputs": [],
   "source": [
    "literacy_subtask_long['flag'] = literacy_subtask_long['item'].str[:2]"
   ]
  },
  {
   "cell_type": "code",
   "execution_count": 149,
   "id": "aff6cefd",
   "metadata": {},
   "outputs": [],
   "source": [
    "literacy_subtask_long['timed_untimed'] = np.where(literacy_subtask_long['flag']=='tt','tt','ut')"
   ]
  },
  {
   "cell_type": "code",
   "execution_count": 150,
   "id": "d6e99f28",
   "metadata": {},
   "outputs": [],
   "source": [
    "literacy_subtask_long.to_csv(\"../Results/literacy_subtask_scored.csv\")"
   ]
  },
  {
   "cell_type": "code",
   "execution_count": 151,
   "id": "3201364c",
   "metadata": {
    "scrolled": true
   },
   "outputs": [],
   "source": [
    "numeracy_subtask_long = pd.melt(numeracy_raw, id_vars = main_var, value_vars = numeracy_subtask_var)"
   ]
  },
  {
   "cell_type": "code",
   "execution_count": 152,
   "id": "c49afa7a",
   "metadata": {},
   "outputs": [],
   "source": [
    "clean_scores(list_clean, numeracy_subtask_long)"
   ]
  },
  {
   "cell_type": "code",
   "execution_count": 153,
   "id": "30523d84",
   "metadata": {},
   "outputs": [],
   "source": [
    "numeracy_subtask_long[['subtask','item']] = numeracy_subtask_long['variable'].str.split('_',1,expand=True)"
   ]
  },
  {
   "cell_type": "code",
   "execution_count": 154,
   "id": "ad131d26",
   "metadata": {},
   "outputs": [],
   "source": [
    "numeracy_subtask_long['flag'] = numeracy_subtask_long['item'].str[:2]"
   ]
  },
  {
   "cell_type": "code",
   "execution_count": 155,
   "id": "8180fc97",
   "metadata": {},
   "outputs": [],
   "source": [
    "numeracy_subtask_long['timed_untimed'] = np.where(numeracy_subtask_long['flag']=='tt','tt','ut')"
   ]
  },
  {
   "cell_type": "code",
   "execution_count": 156,
   "id": "1695860c",
   "metadata": {},
   "outputs": [],
   "source": [
    "numeracy_subtask_long.to_csv(\"../Results/numeracy_subtask_scored.csv\")"
   ]
  },
  {
   "cell_type": "code",
   "execution_count": 157,
   "id": "1c9bacd9",
   "metadata": {},
   "outputs": [],
   "source": [
    "lst = literacy_subtask_long['variable'].unique()"
   ]
  },
  {
   "cell_type": "code",
   "execution_count": 158,
   "id": "7d3a534e",
   "metadata": {},
   "outputs": [],
   "source": [
    "dfr = pd.DataFrame(lst)"
   ]
  },
  {
   "cell_type": "code",
   "execution_count": 159,
   "id": "038cd15e",
   "metadata": {},
   "outputs": [],
   "source": [
    "dfr.to_csv(\"../Results/literacy_var.csv\")"
   ]
  },
  {
   "cell_type": "code",
   "execution_count": null,
   "id": "358846d8",
   "metadata": {},
   "outputs": [],
   "source": []
  }
 ],
 "metadata": {
  "kernelspec": {
   "display_name": "Python 3 (ipykernel)",
   "language": "python",
   "name": "python3"
  },
  "language_info": {
   "codemirror_mode": {
    "name": "ipython",
    "version": 3
   },
   "file_extension": ".py",
   "mimetype": "text/x-python",
   "name": "python",
   "nbconvert_exporter": "python",
   "pygments_lexer": "ipython3",
   "version": "3.9.12"
  }
 },
 "nbformat": 4,
 "nbformat_minor": 5
}
